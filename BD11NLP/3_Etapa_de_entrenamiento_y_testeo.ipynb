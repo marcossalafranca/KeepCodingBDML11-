{
  "cells": [
    {
      "cell_type": "markdown",
      "metadata": {
        "id": "DLXJUmm0X8co"
      },
      "source": [
        "# Etapa de entrenamiento y testeo de un modelo de análisis de sentimiento"
      ]
    },
    {
      "cell_type": "code",
      "execution_count": null,
      "metadata": {
        "id": "5leXSj5pYFhx"
      },
      "outputs": [],
      "source": [
        "# Librerias:\n",
        "import pandas as pd\n",
        "import numpy as np\n",
        "from sklearn.model_selection import train_test_split\n",
        "from sklearn.feature_extraction.text import CountVectorizer\n",
        "from collections import Counter\n",
        "from sklearn.datasets import make_classification\n",
        "from sklearn.svm import SVC\n",
        "from sklearn.model_selection import GridSearchCV, RandomizedSearchCV\n",
        "from sklearn.metrics import accuracy_score, precision_score, recall_score, f1_score\n",
        "from xgboost import XGBClassifier\n",
        "from sklearn.feature_extraction.text import TfidfVectorizer\n",
        "import string\n",
        "import nltk\n",
        "import random\n",
        "from nltk.corpus import stopwords\n",
        "from nltk.stem import WordNetLemmatizer\n",
        "from google.colab import drive\n",
        "from sklearn.linear_model import LogisticRegression\n",
        "from sklearn.ensemble import GradientBoostingClassifier\n",
        "from sklearn.metrics import accuracy_score, precision_score, recall_score, f1_score\n",
        "import matplotlib.pyplot as plt"
      ]
    },
    {
      "cell_type": "code",
      "execution_count": null,
      "metadata": {
        "colab": {
          "base_uri": "https://localhost:8080/"
        },
        "id": "Wrep7HFxYFkc",
        "outputId": "3c5bc966-0c74-47ba-b75e-f5f1e0b1fb6b"
      },
      "outputs": [
        {
          "name": "stdout",
          "output_type": "stream",
          "text": [
            "Mounted at /content/drive\n"
          ]
        }
      ],
      "source": [
        "# montamos GDrive\n",
        "drive.mount('/content/drive')"
      ]
    },
    {
      "cell_type": "code",
      "execution_count": null,
      "metadata": {
        "id": "cOS7p1VZX32C"
      },
      "outputs": [],
      "source": [
        "# Cargando el dataset creado:\n",
        "df = pd.read_csv('drive/MyDrive/NLP/df_preprocessed.csv')"
      ]
    },
    {
      "cell_type": "code",
      "execution_count": null,
      "metadata": {
        "colab": {
          "base_uri": "https://localhost:8080/",
          "height": 206
        },
        "id": "F_r7JFoBYZmI",
        "outputId": "68b6787f-01e1-465d-f8ac-90e98702377a"
      },
      "outputs": [
        {
          "data": {
            "text/html": [
              "\n",
              "\n",
              "  <div id=\"df-fe444afc-5e98-4c1d-96aa-11e0c2ea3616\">\n",
              "    <div class=\"colab-df-container\">\n",
              "      <div>\n",
              "<style scoped>\n",
              "    .dataframe tbody tr th:only-of-type {\n",
              "        vertical-align: middle;\n",
              "    }\n",
              "\n",
              "    .dataframe tbody tr th {\n",
              "        vertical-align: top;\n",
              "    }\n",
              "\n",
              "    .dataframe thead th {\n",
              "        text-align: right;\n",
              "    }\n",
              "</style>\n",
              "<table border=\"1\" class=\"dataframe\">\n",
              "  <thead>\n",
              "    <tr style=\"text-align: right;\">\n",
              "      <th></th>\n",
              "      <th>overall</th>\n",
              "      <th>reviewText</th>\n",
              "    </tr>\n",
              "  </thead>\n",
              "  <tbody>\n",
              "    <tr>\n",
              "      <th>0</th>\n",
              "      <td>1.0</td>\n",
              "      <td>['helicopter', 'stopped', 'working', 'ten', 'm...</td>\n",
              "    </tr>\n",
              "    <tr>\n",
              "      <th>1</th>\n",
              "      <td>1.0</td>\n",
              "      <td>['here', 'whats', 'good', 'product', 'got', 'c...</td>\n",
              "    </tr>\n",
              "    <tr>\n",
              "      <th>2</th>\n",
              "      <td>1.0</td>\n",
              "      <td>['daughter', 'three', 'barelt', 'fit', 'toy', ...</td>\n",
              "    </tr>\n",
              "    <tr>\n",
              "      <th>3</th>\n",
              "      <td>1.0</td>\n",
              "      <td>['small', 'long', 'lasting', 'play', 'child', ...</td>\n",
              "    </tr>\n",
              "    <tr>\n",
              "      <th>4</th>\n",
              "      <td>1.0</td>\n",
              "      <td>['waste', 'money', 'product', 'flimsy', 'doesn...</td>\n",
              "    </tr>\n",
              "  </tbody>\n",
              "</table>\n",
              "</div>\n",
              "      <button class=\"colab-df-convert\" onclick=\"convertToInteractive('df-fe444afc-5e98-4c1d-96aa-11e0c2ea3616')\"\n",
              "              title=\"Convert this dataframe to an interactive table.\"\n",
              "              style=\"display:none;\">\n",
              "\n",
              "  <svg xmlns=\"http://www.w3.org/2000/svg\" height=\"24px\"viewBox=\"0 0 24 24\"\n",
              "       width=\"24px\">\n",
              "    <path d=\"M0 0h24v24H0V0z\" fill=\"none\"/>\n",
              "    <path d=\"M18.56 5.44l.94 2.06.94-2.06 2.06-.94-2.06-.94-.94-2.06-.94 2.06-2.06.94zm-11 1L8.5 8.5l.94-2.06 2.06-.94-2.06-.94L8.5 2.5l-.94 2.06-2.06.94zm10 10l.94 2.06.94-2.06 2.06-.94-2.06-.94-.94-2.06-.94 2.06-2.06.94z\"/><path d=\"M17.41 7.96l-1.37-1.37c-.4-.4-.92-.59-1.43-.59-.52 0-1.04.2-1.43.59L10.3 9.45l-7.72 7.72c-.78.78-.78 2.05 0 2.83L4 21.41c.39.39.9.59 1.41.59.51 0 1.02-.2 1.41-.59l7.78-7.78 2.81-2.81c.8-.78.8-2.07 0-2.86zM5.41 20L4 18.59l7.72-7.72 1.47 1.35L5.41 20z\"/>\n",
              "  </svg>\n",
              "      </button>\n",
              "\n",
              "\n",
              "\n",
              "    <div id=\"df-407db2d7-2dba-4aac-8224-8295dcf027d0\">\n",
              "      <button class=\"colab-df-quickchart\" onclick=\"quickchart('df-407db2d7-2dba-4aac-8224-8295dcf027d0')\"\n",
              "              title=\"Suggest charts.\"\n",
              "              style=\"display:none;\">\n",
              "\n",
              "<svg xmlns=\"http://www.w3.org/2000/svg\" height=\"24px\"viewBox=\"0 0 24 24\"\n",
              "     width=\"24px\">\n",
              "    <g>\n",
              "        <path d=\"M19 3H5c-1.1 0-2 .9-2 2v14c0 1.1.9 2 2 2h14c1.1 0 2-.9 2-2V5c0-1.1-.9-2-2-2zM9 17H7v-7h2v7zm4 0h-2V7h2v10zm4 0h-2v-4h2v4z\"/>\n",
              "    </g>\n",
              "</svg>\n",
              "      </button>\n",
              "    </div>\n",
              "\n",
              "<style>\n",
              "  .colab-df-quickchart {\n",
              "    background-color: #E8F0FE;\n",
              "    border: none;\n",
              "    border-radius: 50%;\n",
              "    cursor: pointer;\n",
              "    display: none;\n",
              "    fill: #1967D2;\n",
              "    height: 32px;\n",
              "    padding: 0 0 0 0;\n",
              "    width: 32px;\n",
              "  }\n",
              "\n",
              "  .colab-df-quickchart:hover {\n",
              "    background-color: #E2EBFA;\n",
              "    box-shadow: 0px 1px 2px rgba(60, 64, 67, 0.3), 0px 1px 3px 1px rgba(60, 64, 67, 0.15);\n",
              "    fill: #174EA6;\n",
              "  }\n",
              "\n",
              "  [theme=dark] .colab-df-quickchart {\n",
              "    background-color: #3B4455;\n",
              "    fill: #D2E3FC;\n",
              "  }\n",
              "\n",
              "  [theme=dark] .colab-df-quickchart:hover {\n",
              "    background-color: #434B5C;\n",
              "    box-shadow: 0px 1px 3px 1px rgba(0, 0, 0, 0.15);\n",
              "    filter: drop-shadow(0px 1px 2px rgba(0, 0, 0, 0.3));\n",
              "    fill: #FFFFFF;\n",
              "  }\n",
              "</style>\n",
              "\n",
              "    <script>\n",
              "      async function quickchart(key) {\n",
              "        const containerElement = document.querySelector('#' + key);\n",
              "        const charts = await google.colab.kernel.invokeFunction(\n",
              "            'suggestCharts', [key], {});\n",
              "      }\n",
              "    </script>\n",
              "\n",
              "      <script>\n",
              "\n",
              "function displayQuickchartButton(domScope) {\n",
              "  let quickchartButtonEl =\n",
              "    domScope.querySelector('#df-407db2d7-2dba-4aac-8224-8295dcf027d0 button.colab-df-quickchart');\n",
              "  quickchartButtonEl.style.display =\n",
              "    google.colab.kernel.accessAllowed ? 'block' : 'none';\n",
              "}\n",
              "\n",
              "        displayQuickchartButton(document);\n",
              "      </script>\n",
              "      <style>\n",
              "    .colab-df-container {\n",
              "      display:flex;\n",
              "      flex-wrap:wrap;\n",
              "      gap: 12px;\n",
              "    }\n",
              "\n",
              "    .colab-df-convert {\n",
              "      background-color: #E8F0FE;\n",
              "      border: none;\n",
              "      border-radius: 50%;\n",
              "      cursor: pointer;\n",
              "      display: none;\n",
              "      fill: #1967D2;\n",
              "      height: 32px;\n",
              "      padding: 0 0 0 0;\n",
              "      width: 32px;\n",
              "    }\n",
              "\n",
              "    .colab-df-convert:hover {\n",
              "      background-color: #E2EBFA;\n",
              "      box-shadow: 0px 1px 2px rgba(60, 64, 67, 0.3), 0px 1px 3px 1px rgba(60, 64, 67, 0.15);\n",
              "      fill: #174EA6;\n",
              "    }\n",
              "\n",
              "    [theme=dark] .colab-df-convert {\n",
              "      background-color: #3B4455;\n",
              "      fill: #D2E3FC;\n",
              "    }\n",
              "\n",
              "    [theme=dark] .colab-df-convert:hover {\n",
              "      background-color: #434B5C;\n",
              "      box-shadow: 0px 1px 3px 1px rgba(0, 0, 0, 0.15);\n",
              "      filter: drop-shadow(0px 1px 2px rgba(0, 0, 0, 0.3));\n",
              "      fill: #FFFFFF;\n",
              "    }\n",
              "  </style>\n",
              "\n",
              "      <script>\n",
              "        const buttonEl =\n",
              "          document.querySelector('#df-fe444afc-5e98-4c1d-96aa-11e0c2ea3616 button.colab-df-convert');\n",
              "        buttonEl.style.display =\n",
              "          google.colab.kernel.accessAllowed ? 'block' : 'none';\n",
              "\n",
              "        async function convertToInteractive(key) {\n",
              "          const element = document.querySelector('#df-fe444afc-5e98-4c1d-96aa-11e0c2ea3616');\n",
              "          const dataTable =\n",
              "            await google.colab.kernel.invokeFunction('convertToInteractive',\n",
              "                                                     [key], {});\n",
              "          if (!dataTable) return;\n",
              "\n",
              "          const docLinkHtml = 'Like what you see? Visit the ' +\n",
              "            '<a target=\"_blank\" href=https://colab.research.google.com/notebooks/data_table.ipynb>data table notebook</a>'\n",
              "            + ' to learn more about interactive tables.';\n",
              "          element.innerHTML = '';\n",
              "          dataTable['output_type'] = 'display_data';\n",
              "          await google.colab.output.renderOutput(dataTable, element);\n",
              "          const docLink = document.createElement('div');\n",
              "          docLink.innerHTML = docLinkHtml;\n",
              "          element.appendChild(docLink);\n",
              "        }\n",
              "      </script>\n",
              "    </div>\n",
              "  </div>\n"
            ],
            "text/plain": [
              "   overall                                         reviewText\n",
              "0      1.0  ['helicopter', 'stopped', 'working', 'ten', 'm...\n",
              "1      1.0  ['here', 'whats', 'good', 'product', 'got', 'c...\n",
              "2      1.0  ['daughter', 'three', 'barelt', 'fit', 'toy', ...\n",
              "3      1.0  ['small', 'long', 'lasting', 'play', 'child', ...\n",
              "4      1.0  ['waste', 'money', 'product', 'flimsy', 'doesn..."
            ]
          },
          "execution_count": 4,
          "metadata": {},
          "output_type": "execute_result"
        }
      ],
      "source": [
        "df.head()"
      ]
    },
    {
      "cell_type": "code",
      "execution_count": null,
      "metadata": {
        "id": "N0O2fh7rYbhS"
      },
      "outputs": [],
      "source": [
        "# Asignar clasificaciones de estrellas a etiquetas de sentimiento\n",
        "etiqueta = {1: 0, 2: 0, 3: 1, 4: 1, 5: 1}\n",
        "df['etiqueta'] = df['overall'].map(etiqueta)\n",
        "\n",
        "X = df['reviewText']\n",
        "y = df['etiqueta']"
      ]
    },
    {
      "cell_type": "markdown",
      "metadata": {
        "id": "3HirVgpvYfc8"
      },
      "source": [
        "# Dividir los datos en entrenamiento y prueba"
      ]
    },
    {
      "cell_type": "code",
      "execution_count": null,
      "metadata": {
        "id": "L8XsTdIWYbmQ"
      },
      "outputs": [],
      "source": [
        "# Dividir los datos en datos de entrenamiento y prueba 80/20\n",
        "X_train, X_test, y_train, y_test = train_test_split(X, y, test_size=0.20, random_state=42)"
      ]
    },
    {
      "cell_type": "code",
      "execution_count": null,
      "metadata": {
        "id": "6s9RlyrRYkAN"
      },
      "outputs": [],
      "source": [
        "vectorizer = TfidfVectorizer(min_df=25, max_df=0.95, ngram_range=(1,4), max_features=2500)\n",
        "vectorizer.fit(X)\n",
        "X_train_tf = vectorizer.transform(X_train)\n",
        "# Tomando X como entrada y convirtiéndolo en matriz de características\n",
        "X_train_tf = X_train_tf.todense()\n",
        "X_test_tf = vectorizer.transform(X_test)\n",
        "# Tomando X como entrada y convirtiéndolo en matriz de características\n",
        "X_test_tf = X_test_tf.todense()"
      ]
    },
    {
      "cell_type": "code",
      "execution_count": null,
      "metadata": {
        "id": "I_UyzhRAZEvj"
      },
      "outputs": [],
      "source": [
        "X_train_tf = np.asarray(X_train_tf)\n",
        "X_test_tf = np.asarray(X_test_tf)"
      ]
    },
    {
      "cell_type": "markdown",
      "metadata": {
        "id": "fIJivvYlVGjg"
      },
      "source": [
        "\n",
        "# **Primer modelo:**\n",
        "## LogisticRegression"
      ]
    },
    {
      "cell_type": "code",
      "execution_count": null,
      "metadata": {
        "colab": {
          "base_uri": "https://localhost:8080/"
        },
        "id": "4m6m6N-rVR5s",
        "outputId": "7cad3227-1812-46bd-816a-e0a92f56cbf4"
      },
      "outputs": [
        {
          "name": "stdout",
          "output_type": "stream",
          "text": [
            "Accuracy: 0.814468085106383\n",
            "Precision: 0.8210873146622735\n",
            "Recall: 0.8833746898263027\n",
            "F1-score: 0.8510928961748635\n"
          ]
        }
      ],
      "source": [
        "# Crear una instancia del modelo LogisticRegression\n",
        "lr = LogisticRegression(random_state=42)\n",
        "\n",
        "# Entrenar el modelo LogisticRegression en el conjunto de entrenamiento\n",
        "lr.fit(X_train_tf, y_train)\n",
        "\n",
        "# Usar el modelo LogisticRegression entrenado para predecir el conjunto de prueba\n",
        "y_pred = lr.predict(X_test_tf)\n",
        "\n",
        "# Evaluar el rendimiento del modelo LogisticRegression utilizando accuracy, precision, recall y F1-score\n",
        "acc = accuracy_score(y_test, y_pred)\n",
        "prec = precision_score(y_test, y_pred)\n",
        "rec = recall_score(y_test, y_pred)\n",
        "f1 = f1_score(y_test, y_pred)\n",
        "\n",
        "print(\"Accuracy:\", acc)\n",
        "print(\"Precision:\", prec)\n",
        "print(\"Recall:\", rec)\n",
        "print(\"F1-score:\", f1)\n",
        "\n"
      ]
    },
    {
      "cell_type": "code",
      "execution_count": null,
      "metadata": {
        "colab": {
          "base_uri": "https://localhost:8080/"
        },
        "id": "9rZTiC8NXucq",
        "outputId": "0aad5449-2561-4d63-ad94-27aebd147ead"
      },
      "outputs": [
        {
          "name": "stdout",
          "output_type": "stream",
          "text": [
            "\n",
            "Review no. 3493\n",
            "Actual sentiment: 1.0\n",
            "Prediction: [0]\n",
            "\n",
            "Review no. 4377\n",
            "Actual sentiment: 1.0\n",
            "Prediction: [0]\n",
            "\n",
            "Review no. 6789\n",
            "Actual sentiment: 2.0\n",
            "Prediction: [0]\n",
            "\n",
            "Review no. 7117\n",
            "Actual sentiment: 2.0\n",
            "Prediction: [0]\n",
            "\n",
            "Review no. 12888\n",
            "Actual sentiment: 3.0\n",
            "Prediction: [1]\n"
          ]
        }
      ],
      "source": [
        "# Predecir\n",
        "def predict_review_sentiment(review_index, model):\n",
        "    print('Actual sentiment: {}'.format(df.iloc[review_index]['overall']))\n",
        "    r = df.iloc[review_index]['reviewText']\n",
        "    print('Prediction: {}'.format(model.predict(vectorizer.transform([r]))))\n",
        "\n",
        "# Elegir revisiones aleatorias para predecir su sentimiento\n",
        "for i in random.sample(range(0, len(df)), 5):\n",
        "    print('\\nReview no. {}'.format(i))\n",
        "    predict_review_sentiment(i, lr)  # lr es el modelo de regresión logística que ya has entrenado\n",
        "\n"
      ]
    },
    {
      "cell_type": "markdown",
      "metadata": {
        "id": "DK72m4zFVcT-"
      },
      "source": [
        "# **Segundo modelo:**\n",
        "##GradientBoostingClassifier"
      ]
    },
    {
      "cell_type": "code",
      "execution_count": null,
      "metadata": {
        "colab": {
          "base_uri": "https://localhost:8080/"
        },
        "id": "-cKOv5UMVbxo",
        "outputId": "7cea343d-1cba-4fa7-a8cb-aca6258ba18e"
      },
      "outputs": [
        {
          "name": "stdout",
          "output_type": "stream",
          "text": [
            "Accuracy: 0.7640425531914894\n",
            "Precision: 0.7479721900347625\n",
            "Recall: 0.9152782701169798\n",
            "F1-score: 0.823210585047027\n"
          ]
        }
      ],
      "source": [
        "# Crear una instancia del modelo GradientBoostingClassifier\n",
        "gbc = GradientBoostingClassifier(random_state=42)\n",
        "\n",
        "# Entrenar el modelo GradientBoostingClassifier en el conjunto de entrenamiento\n",
        "gbc.fit(X_train_tf, y_train)\n",
        "\n",
        "# Usar el modelo GradientBoostingClassifier entrenado para predecir el conjunto de prueba\n",
        "y_pred = gbc.predict(X_test_tf)\n",
        "\n",
        "# Evaluar el rendimiento del modelo GradientBoostingClassifier utilizando accuracy, precision, recall y F1-score\n",
        "acc = accuracy_score(y_test, y_pred)\n",
        "prec = precision_score(y_test, y_pred)\n",
        "rec = recall_score(y_test, y_pred)\n",
        "f1 = f1_score(y_test, y_pred)\n",
        "\n",
        "print(\"Accuracy:\", acc)\n",
        "print(\"Precision:\", prec)\n",
        "print(\"Recall:\", rec)\n",
        "print(\"F1-score:\", f1)\n"
      ]
    },
    {
      "cell_type": "code",
      "execution_count": null,
      "metadata": {
        "colab": {
          "base_uri": "https://localhost:8080/"
        },
        "id": "4Q6sw9xhazUJ",
        "outputId": "b68c3df6-afdb-43b8-fde9-11425be8d6f9"
      },
      "outputs": [
        {
          "name": "stdout",
          "output_type": "stream",
          "text": [
            "\n",
            "Review no. 12422\n",
            "Actual sentiment: 3.0\n",
            "Prediction: [1]\n",
            "\n",
            "Review no. 11989\n",
            "Actual sentiment: 3.0\n",
            "Prediction: [1]\n",
            "\n",
            "Review no. 23372\n",
            "Actual sentiment: 5.0\n",
            "Prediction: [1]\n",
            "\n",
            "Review no. 3257\n",
            "Actual sentiment: 1.0\n",
            "Prediction: [0]\n",
            "\n",
            "Review no. 14901\n",
            "Actual sentiment: 4.0\n",
            "Prediction: [1]\n"
          ]
        }
      ],
      "source": [
        "# Predecir\n",
        "def predict_review_sentiment(review_index, model, vectorizer):\n",
        "    print('Actual sentiment: {}'.format(df.iloc[review_index]['overall']))\n",
        "    r = df.iloc[review_index]['reviewText']\n",
        "    print('Prediction: {}'.format(model.predict(vectorizer.transform([r]))))\n",
        "\n",
        "# Elegir revisiones aleatorias para predecir su sentimiento\n",
        "for i in random.sample(range(0, len(df)), 5):\n",
        "    print('\\nReview no. {}'.format(i))\n",
        "    predict_review_sentiment(i, gbc, vectorizer)  # gbc es el modelo de GradientBoostingClassifier que ya has entrenado\n"
      ]
    },
    {
      "cell_type": "markdown",
      "metadata": {
        "id": "jCQ2ke4DZKxA"
      },
      "source": [
        "# **Modelos extra:**\n",
        "\n",
        "##SVC"
      ]
    },
    {
      "cell_type": "code",
      "execution_count": null,
      "metadata": {
        "colab": {
          "base_uri": "https://localhost:8080/"
        },
        "id": "h3sFK_TNZLBE",
        "outputId": "80ed98d5-390e-4ad7-9754-5d27729f2d65"
      },
      "outputs": [
        {
          "name": "stdout",
          "output_type": "stream",
          "text": [
            "Accuracy: 0.815531914893617\n",
            "Precision: 0.8267558528428094\n",
            "Recall: 0.8762850053172634\n",
            "F1-score: 0.8508002065049044\n"
          ]
        }
      ],
      "source": [
        "# Crear una instancia del modelo SVM\n",
        "svc = SVC(kernel='linear', C=1, random_state=42)\n",
        "\n",
        "# Entrene el modelo SVM en el conjunto de entrenamiento\n",
        "svc.fit(X_train_tf, y_train)\n",
        "\n",
        "# Usar el modelo SVM entrenado para predecir el sentimiento del conjunto de prueba\n",
        "y_pred = svc.predict(X_test_tf)\n",
        "\n",
        "# Evaluar el rendimiento del modelo SVM utilizando accuracy, precision, recall y F1-score\n",
        "acc = accuracy_score(y_test, y_pred)\n",
        "prec = precision_score(y_test, y_pred)\n",
        "rec = recall_score(y_test, y_pred)\n",
        "f1 = f1_score(y_test, y_pred)\n",
        "\n",
        "print(\"Accuracy:\", acc)\n",
        "print(\"Precision:\", prec)\n",
        "print(\"Recall:\", rec)\n",
        "print(\"F1-score:\", f1)"
      ]
    },
    {
      "cell_type": "code",
      "execution_count": null,
      "metadata": {
        "id": "fV0JsRv3ZLJ-"
      },
      "outputs": [],
      "source": [
        "# Creación de una función para encontrar los mejores parámetros\n",
        "def svc_tuning(X_train, y_train, X_test, y_test):\n",
        "    # Establecer los parámetros para la búsqueda\n",
        "    param_grid = {'C': [0.1, 1, 10, 100], 'gamma': [0.001, 0.01, 0.1, 1, 10], 'kernel': ['poly', 'rbf', 'sigmoid', 'linear']}\n",
        "\n",
        "    # Crear el clasificador SVM\n",
        "    svc = SVC()\n",
        "\n",
        "    # Crear el GridSearchCV\n",
        "    grid_search = GridSearchCV(svc, param_grid, cv=5, scoring='accuracy', n_jobs=-1)\n",
        "\n",
        "    # Ajuste del GridSearchCV a los datos de entrenamiento\n",
        "    grid_search.fit(X_train, y_train)\n",
        "\n",
        "    # Usar el mejor modelo de la búsqueda para hacer predicciones sobre los datos de prueba\n",
        "    y_pred = grid_search.predict(X_test)\n",
        "\n",
        "    # Calcular el accuracy, precision, recall y F1-score\n",
        "    accuracy = accuracy_score(y_test, y_pred)\n",
        "    precision = precision_score(y_test, y_pred)\n",
        "    recall = recall_score(y_test, y_pred)\n",
        "    f1 = f1_score(y_test, y_pred)\n",
        "\n",
        "    print('Best parameters:', grid_search.best_params_)\n",
        "    print('Accuracy:', accuracy)\n",
        "    print('Precision:', precision)\n",
        "    print('Recall:', recall)\n",
        "    print('F1-score:', f1)"
      ]
    },
    {
      "cell_type": "code",
      "execution_count": null,
      "metadata": {
        "colab": {
          "base_uri": "https://localhost:8080/"
        },
        "id": "8BCFygoQZSTi",
        "outputId": "0f95c6ae-f401-4bfe-ced2-57b0841de8df"
      },
      "outputs": [
        {
          "name": "stdout",
          "output_type": "stream",
          "text": [
            "Best parameters: {'C': 10, 'gamma': 1, 'kernel': 'rbf'}\n",
            "Accuracy: 0.7589361702127659\n",
            "Precision: 0.7649089767733835\n",
            "Recall: 0.8638780574264445\n",
            "F1-score: 0.811386715498585\n"
          ]
        }
      ],
      "source": [
        "svc_tuning(X_train_tf[0:2000], y_train[0:2000], X_test_tf, y_test)"
      ]
    },
    {
      "cell_type": "code",
      "execution_count": null,
      "metadata": {
        "colab": {
          "base_uri": "https://localhost:8080/"
        },
        "id": "cW49hIBMZSXW",
        "outputId": "555907e2-561b-448c-906a-fcbc39bf375d"
      },
      "outputs": [
        {
          "name": "stdout",
          "output_type": "stream",
          "text": [
            "Accuracy: 0.8161702127659575\n",
            "Precision: 0.8302396220047249\n",
            "Recall: 0.8720311946118398\n",
            "F1-score: 0.8506224066390042\n"
          ]
        }
      ],
      "source": [
        "# Crear una instancia del modelo SVM con los mejores hiperparámetros\n",
        "svc = SVC(kernel='rbf', C=10, gamma=1, random_state=42)\n",
        "\n",
        "# Entrenar el modelo SVM en el conjunto de entrenamiento\n",
        "svc.fit(X_train_tf, y_train)\n",
        "\n",
        "# Usar el modelo SVM entrenado para predecir el sentimiento del conjunto de prueba\n",
        "y_pred = svc.predict(X_test_tf)\n",
        "\n",
        "# Evaluar el rendimiento del modelo SVM usando accuracy, precision, recall, and F1-score\n",
        "acc = accuracy_score(y_test, y_pred)\n",
        "prec = precision_score(y_test, y_pred)\n",
        "rec = recall_score(y_test, y_pred)\n",
        "f1 = f1_score(y_test, y_pred)\n",
        "\n",
        "print(\"Accuracy:\", acc)\n",
        "print(\"Precision:\", prec)\n",
        "print(\"Recall:\", rec)\n",
        "print(\"F1-score:\", f1)\n",
        "\n"
      ]
    },
    {
      "cell_type": "code",
      "execution_count": null,
      "metadata": {
        "colab": {
          "base_uri": "https://localhost:8080/"
        },
        "id": "Mm3b3KlubneO",
        "outputId": "628f15d2-237a-4e92-c3be-aa82bb19fcb3"
      },
      "outputs": [
        {
          "name": "stdout",
          "output_type": "stream",
          "text": [
            "\n",
            "Review no. 11100\n",
            "Actual sentiment: 3.0\n",
            "Prediction: [1]\n",
            "\n",
            "Review no. 21016\n",
            "Actual sentiment: 5.0\n",
            "Prediction: [1]\n",
            "\n",
            "Review no. 5283\n",
            "Actual sentiment: 2.0\n",
            "Prediction: [0]\n",
            "\n",
            "Review no. 19191\n",
            "Actual sentiment: 5.0\n",
            "Prediction: [1]\n",
            "\n",
            "Review no. 22926\n",
            "Actual sentiment: 5.0\n",
            "Prediction: [1]\n"
          ]
        }
      ],
      "source": [
        "# Prediccion\n",
        "def predict_review_sentiment(review_index, model, vectorizer):\n",
        "    print('Actual sentiment: {}'.format(df.iloc[review_index]['overall']))\n",
        "    r = df.iloc[review_index]['reviewText']\n",
        "    print('Prediction: {}'.format(model.predict(np.asarray(vectorizer.transform([r]).todense()))))  # convertir a np.array\n",
        "\n",
        "# Elegir revisiones aleatorias para predecir su sentimiento\n",
        "for i in random.sample(range(0, len(df)), 5):\n",
        "    print('\\nReview no. {}'.format(i))\n",
        "    predict_review_sentiment(i, svc, vectorizer)  # svc es el modelo de SVC que ya has entrenado\n",
        "\n"
      ]
    },
    {
      "cell_type": "markdown",
      "metadata": {
        "id": "SQmifM4YZXQA"
      },
      "source": [
        "## XGBoost"
      ]
    },
    {
      "cell_type": "code",
      "execution_count": null,
      "metadata": {
        "colab": {
          "base_uri": "https://localhost:8080/"
        },
        "id": "NxXdh-YeZYq4",
        "outputId": "d96b74ce-8aae-41ce-95bf-cc6a8633b79a"
      },
      "outputs": [
        {
          "name": "stdout",
          "output_type": "stream",
          "text": [
            "Fitting 3 folds for each of 10 candidates, totalling 30 fits\n",
            "Best parameters: {'subsample': 1.0, 'max_depth': 3, 'learning_rate': 0.1, 'gamma': 0.01, 'colsample_bytree': 0.5}\n",
            "Best score: 0.7260026143084614\n"
          ]
        }
      ],
      "source": [
        "# Definir el modelo XGBoost\n",
        "xgb_model = XGBClassifier()\n",
        "\n",
        "#Parametros\n",
        "params = {\n",
        "    \"learning_rate\": [0.1, 0.01, 0.001],\n",
        "    \"max_depth\": [3, 5, 7],\n",
        "    \"subsample\": [0.5, 0.8, 1.0],\n",
        "    \"colsample_bytree\": [0.5, 0.8, 1.0],\n",
        "    \"gamma\": [0.01, 0.1, 1.0]\n",
        "}\n",
        "\n",
        "# Se usa RandomizedSearchCV porque GridSearchCV tardaba una eternidad con el colab\n",
        "grid_search = RandomizedSearchCV ( # usar grid_search =GridSearchCV  si es GridSearchCV\n",
        "    estimator=xgb_model,\n",
        "    param_distributions=params,  # Usar param_grid=params si es GridSearchCV\n",
        "    cv=3,\n",
        "    n_jobs=-1,\n",
        "    verbose=3\n",
        ")\n",
        "\n",
        "# Ajustar la búsqueda de cuadrícula a los datos de entrenamiento\n",
        "grid_search.fit(X_train_tf[:2000], y_train[:2000])\n",
        "\n",
        "# Imprimir los mejores parámetros y la puntuación correspondiente\n",
        "print(\"Best parameters:\", grid_search.best_params_)\n",
        "print(\"Best score:\", grid_search.best_score_)"
      ]
    },
    {
      "cell_type": "code",
      "execution_count": null,
      "metadata": {
        "id": "uu8-FV3eZYtp"
      },
      "outputs": [],
      "source": [
        "# Parametros para el modelo XGBoost\n",
        "xgb_model = XGBClassifier(\n",
        "    n_estimators=1000,\n",
        "    max_depth=3,\n",
        "    learning_rate=0.1,\n",
        "    subsample=1,\n",
        "    colsample_bytree=0.5,\n",
        "    gamma = 0.01,\n",
        "    random_state=42\n",
        ")\n",
        "\n",
        "# Entrenar modelo XGBoost\n",
        "xgb_model.fit(X_train_tf, y_train)\n",
        "\n",
        "# Evaluar modelo XGBoost\n",
        "y_pred = xgb_model.predict(X_test_tf)\n",
        "accuracy = accuracy_score(y_test, y_pred)\n",
        "\n"
      ]
    },
    {
      "cell_type": "code",
      "execution_count": null,
      "metadata": {
        "colab": {
          "base_uri": "https://localhost:8080/"
        },
        "id": "DdBc2Q7EZYvz",
        "outputId": "7b0e963b-9b1d-4caf-d32e-8f844e2bac1e"
      },
      "outputs": [
        {
          "name": "stdout",
          "output_type": "stream",
          "text": [
            "Accuracy: 0.8080851063829787\n",
            "Precision: 0.8102166181700614\n",
            "Recall: 0.8883374689826302\n",
            "F1-score: 0.847480554616165\n"
          ]
        }
      ],
      "source": [
        "# Evaluar el rendimiento del modelo XGBoost usando accuracy, precision, recall, and F1-score\n",
        "acc = accuracy_score(y_test, y_pred)\n",
        "prec = precision_score(y_test, y_pred)\n",
        "rec = recall_score(y_test, y_pred)\n",
        "f1 = f1_score(y_test, y_pred)\n",
        "\n",
        "print(\"Accuracy:\", acc)\n",
        "print(\"Precision:\", prec)\n",
        "print(\"Recall:\", rec)\n",
        "print(\"F1-score:\", f1)"
      ]
    },
    {
      "cell_type": "code",
      "execution_count": null,
      "metadata": {
        "colab": {
          "base_uri": "https://localhost:8080/"
        },
        "id": "ro_3EfwcpdPX",
        "outputId": "b1683fd5-7272-48b3-881c-901d1cb7f1f0"
      },
      "outputs": [
        {
          "name": "stdout",
          "output_type": "stream",
          "text": [
            "\n",
            "Review no. 4759\n",
            "Actual sentiment: 2.0\n",
            "Prediction: [0]\n",
            "\n",
            "Review no. 4383\n",
            "Actual sentiment: 1.0\n",
            "Prediction: [0]\n",
            "\n",
            "Review no. 12013\n",
            "Actual sentiment: 3.0\n",
            "Prediction: [1]\n",
            "\n",
            "Review no. 11263\n",
            "Actual sentiment: 3.0\n",
            "Prediction: [1]\n",
            "\n",
            "Review no. 12107\n",
            "Actual sentiment: 3.0\n",
            "Prediction: [1]\n"
          ]
        }
      ],
      "source": [
        "# Prediccion\n",
        "def predict_review_sentiment(review_index, model, vectorizer):\n",
        "    print('Actual sentiment: {}'.format(df.iloc[review_index]['overall']))\n",
        "    r = df.iloc[review_index]['reviewText']\n",
        "    print('Prediction: {}'.format(model.predict(np.asarray(vectorizer.transform([r]).todense()))))  # convertir a np.array\n",
        "\n",
        "# Elegir revisiones aleatorias para predecir su sentimiento\n",
        "for i in random.sample(range(0, len(df)), 5):\n",
        "    print('\\nReview no. {}'.format(i))\n",
        "    predict_review_sentiment(i, xgb_model, vectorizer)  # xgb_model es el modelo de xgb que ya has entrenado\n"
      ]
    },
    {
      "cell_type": "markdown",
      "metadata": {
        "id": "cAaH6m6vb0at"
      },
      "source": [
        "# **Modelos utilizando Deep learning**"
      ]
    },
    {
      "cell_type": "code",
      "execution_count": null,
      "metadata": {
        "colab": {
          "base_uri": "https://localhost:8080/"
        },
        "id": "YZmzoMY1mUb5",
        "outputId": "23e17189-d475-481d-d894-80ffb345132e"
      },
      "outputs": [
        {
          "name": "stdout",
          "output_type": "stream",
          "text": [
            "Requirement already satisfied: tensorflow in /usr/local/lib/python3.10/dist-packages (2.12.0)\n",
            "Collecting tensorflow\n",
            "  Downloading tensorflow-2.13.0-cp310-cp310-manylinux_2_17_x86_64.manylinux2014_x86_64.whl (524.1 MB)\n",
            "\u001b[2K     \u001b[90m━━━━━━━━━━━━━━━━━━━━━━━━━━━━━━━━━━━━━━━\u001b[0m \u001b[32m524.1/524.1 MB\u001b[0m \u001b[31m2.1 MB/s\u001b[0m eta \u001b[36m0:00:00\u001b[0m\n",
            "\u001b[?25hRequirement already satisfied: absl-py>=1.0.0 in /usr/local/lib/python3.10/dist-packages (from tensorflow) (1.4.0)\n",
            "Requirement already satisfied: astunparse>=1.6.0 in /usr/local/lib/python3.10/dist-packages (from tensorflow) (1.6.3)\n",
            "Requirement already satisfied: flatbuffers>=23.1.21 in /usr/local/lib/python3.10/dist-packages (from tensorflow) (23.5.26)\n",
            "Requirement already satisfied: gast<=0.4.0,>=0.2.1 in /usr/local/lib/python3.10/dist-packages (from tensorflow) (0.4.0)\n",
            "Requirement already satisfied: google-pasta>=0.1.1 in /usr/local/lib/python3.10/dist-packages (from tensorflow) (0.2.0)\n",
            "Requirement already satisfied: grpcio<2.0,>=1.24.3 in /usr/local/lib/python3.10/dist-packages (from tensorflow) (1.56.2)\n",
            "Requirement already satisfied: h5py>=2.9.0 in /usr/local/lib/python3.10/dist-packages (from tensorflow) (3.8.0)\n",
            "Collecting keras<2.14,>=2.13.1 (from tensorflow)\n",
            "  Downloading keras-2.13.1-py3-none-any.whl (1.7 MB)\n",
            "\u001b[2K     \u001b[90m━━━━━━━━━━━━━━━━━━━━━━━━━━━━━━━━━━━━━━━━\u001b[0m \u001b[32m1.7/1.7 MB\u001b[0m \u001b[31m87.7 MB/s\u001b[0m eta \u001b[36m0:00:00\u001b[0m\n",
            "\u001b[?25hRequirement already satisfied: libclang>=13.0.0 in /usr/local/lib/python3.10/dist-packages (from tensorflow) (16.0.6)\n",
            "Requirement already satisfied: numpy<=1.24.3,>=1.22 in /usr/local/lib/python3.10/dist-packages (from tensorflow) (1.22.4)\n",
            "Requirement already satisfied: opt-einsum>=2.3.2 in /usr/local/lib/python3.10/dist-packages (from tensorflow) (3.3.0)\n",
            "Requirement already satisfied: packaging in /usr/local/lib/python3.10/dist-packages (from tensorflow) (23.1)\n",
            "Requirement already satisfied: protobuf!=4.21.0,!=4.21.1,!=4.21.2,!=4.21.3,!=4.21.4,!=4.21.5,<5.0.0dev,>=3.20.3 in /usr/local/lib/python3.10/dist-packages (from tensorflow) (3.20.3)\n",
            "Requirement already satisfied: setuptools in /usr/local/lib/python3.10/dist-packages (from tensorflow) (67.7.2)\n",
            "Requirement already satisfied: six>=1.12.0 in /usr/local/lib/python3.10/dist-packages (from tensorflow) (1.16.0)\n",
            "Collecting tensorboard<2.14,>=2.13 (from tensorflow)\n",
            "  Downloading tensorboard-2.13.0-py3-none-any.whl (5.6 MB)\n",
            "\u001b[2K     \u001b[90m━━━━━━━━━━━━━━━━━━━━━━━━━━━━━━━━━━━━━━━━\u001b[0m \u001b[32m5.6/5.6 MB\u001b[0m \u001b[31m94.6 MB/s\u001b[0m eta \u001b[36m0:00:00\u001b[0m\n",
            "\u001b[?25hCollecting tensorflow-estimator<2.14,>=2.13.0 (from tensorflow)\n",
            "  Downloading tensorflow_estimator-2.13.0-py2.py3-none-any.whl (440 kB)\n",
            "\u001b[2K     \u001b[90m━━━━━━━━━━━━━━━━━━━━━━━━━━━━━━━━━━━━━━\u001b[0m \u001b[32m440.8/440.8 kB\u001b[0m \u001b[31m46.5 MB/s\u001b[0m eta \u001b[36m0:00:00\u001b[0m\n",
            "\u001b[?25hRequirement already satisfied: termcolor>=1.1.0 in /usr/local/lib/python3.10/dist-packages (from tensorflow) (2.3.0)\n",
            "Collecting typing-extensions<4.6.0,>=3.6.6 (from tensorflow)\n",
            "  Downloading typing_extensions-4.5.0-py3-none-any.whl (27 kB)\n",
            "Requirement already satisfied: wrapt>=1.11.0 in /usr/local/lib/python3.10/dist-packages (from tensorflow) (1.14.1)\n",
            "Requirement already satisfied: tensorflow-io-gcs-filesystem>=0.23.1 in /usr/local/lib/python3.10/dist-packages (from tensorflow) (0.32.0)\n",
            "Requirement already satisfied: wheel<1.0,>=0.23.0 in /usr/local/lib/python3.10/dist-packages (from astunparse>=1.6.0->tensorflow) (0.41.0)\n",
            "Requirement already satisfied: google-auth<3,>=1.6.3 in /usr/local/lib/python3.10/dist-packages (from tensorboard<2.14,>=2.13->tensorflow) (2.17.3)\n",
            "Requirement already satisfied: google-auth-oauthlib<1.1,>=0.5 in /usr/local/lib/python3.10/dist-packages (from tensorboard<2.14,>=2.13->tensorflow) (1.0.0)\n",
            "Requirement already satisfied: markdown>=2.6.8 in /usr/local/lib/python3.10/dist-packages (from tensorboard<2.14,>=2.13->tensorflow) (3.4.4)\n",
            "Requirement already satisfied: requests<3,>=2.21.0 in /usr/local/lib/python3.10/dist-packages (from tensorboard<2.14,>=2.13->tensorflow) (2.27.1)\n",
            "Requirement already satisfied: tensorboard-data-server<0.8.0,>=0.7.0 in /usr/local/lib/python3.10/dist-packages (from tensorboard<2.14,>=2.13->tensorflow) (0.7.1)\n",
            "Requirement already satisfied: werkzeug>=1.0.1 in /usr/local/lib/python3.10/dist-packages (from tensorboard<2.14,>=2.13->tensorflow) (2.3.6)\n",
            "Requirement already satisfied: cachetools<6.0,>=2.0.0 in /usr/local/lib/python3.10/dist-packages (from google-auth<3,>=1.6.3->tensorboard<2.14,>=2.13->tensorflow) (5.3.1)\n",
            "Requirement already satisfied: pyasn1-modules>=0.2.1 in /usr/local/lib/python3.10/dist-packages (from google-auth<3,>=1.6.3->tensorboard<2.14,>=2.13->tensorflow) (0.3.0)\n",
            "Requirement already satisfied: rsa<5,>=3.1.4 in /usr/local/lib/python3.10/dist-packages (from google-auth<3,>=1.6.3->tensorboard<2.14,>=2.13->tensorflow) (4.9)\n",
            "Requirement already satisfied: requests-oauthlib>=0.7.0 in /usr/local/lib/python3.10/dist-packages (from google-auth-oauthlib<1.1,>=0.5->tensorboard<2.14,>=2.13->tensorflow) (1.3.1)\n",
            "Requirement already satisfied: urllib3<1.27,>=1.21.1 in /usr/local/lib/python3.10/dist-packages (from requests<3,>=2.21.0->tensorboard<2.14,>=2.13->tensorflow) (1.26.16)\n",
            "Requirement already satisfied: certifi>=2017.4.17 in /usr/local/lib/python3.10/dist-packages (from requests<3,>=2.21.0->tensorboard<2.14,>=2.13->tensorflow) (2023.7.22)\n",
            "Requirement already satisfied: charset-normalizer~=2.0.0 in /usr/local/lib/python3.10/dist-packages (from requests<3,>=2.21.0->tensorboard<2.14,>=2.13->tensorflow) (2.0.12)\n",
            "Requirement already satisfied: idna<4,>=2.5 in /usr/local/lib/python3.10/dist-packages (from requests<3,>=2.21.0->tensorboard<2.14,>=2.13->tensorflow) (3.4)\n",
            "Requirement already satisfied: MarkupSafe>=2.1.1 in /usr/local/lib/python3.10/dist-packages (from werkzeug>=1.0.1->tensorboard<2.14,>=2.13->tensorflow) (2.1.3)\n",
            "Requirement already satisfied: pyasn1<0.6.0,>=0.4.6 in /usr/local/lib/python3.10/dist-packages (from pyasn1-modules>=0.2.1->google-auth<3,>=1.6.3->tensorboard<2.14,>=2.13->tensorflow) (0.5.0)\n",
            "Requirement already satisfied: oauthlib>=3.0.0 in /usr/local/lib/python3.10/dist-packages (from requests-oauthlib>=0.7.0->google-auth-oauthlib<1.1,>=0.5->tensorboard<2.14,>=2.13->tensorflow) (3.2.2)\n",
            "Installing collected packages: typing-extensions, tensorflow-estimator, keras, tensorboard, tensorflow\n",
            "  Attempting uninstall: typing-extensions\n",
            "    Found existing installation: typing_extensions 4.7.1\n",
            "    Uninstalling typing_extensions-4.7.1:\n",
            "      Successfully uninstalled typing_extensions-4.7.1\n",
            "  Attempting uninstall: tensorflow-estimator\n",
            "    Found existing installation: tensorflow-estimator 2.12.0\n",
            "    Uninstalling tensorflow-estimator-2.12.0:\n",
            "      Successfully uninstalled tensorflow-estimator-2.12.0\n",
            "  Attempting uninstall: keras\n",
            "    Found existing installation: keras 2.12.0\n",
            "    Uninstalling keras-2.12.0:\n",
            "      Successfully uninstalled keras-2.12.0\n",
            "  Attempting uninstall: tensorboard\n",
            "    Found existing installation: tensorboard 2.12.3\n",
            "    Uninstalling tensorboard-2.12.3:\n",
            "      Successfully uninstalled tensorboard-2.12.3\n",
            "  Attempting uninstall: tensorflow\n",
            "    Found existing installation: tensorflow 2.12.0\n",
            "    Uninstalling tensorflow-2.12.0:\n",
            "      Successfully uninstalled tensorflow-2.12.0\n",
            "Successfully installed keras-2.13.1 tensorboard-2.13.0 tensorflow-2.13.0 tensorflow-estimator-2.13.0 typing-extensions-4.5.0\n",
            "Requirement already satisfied: keras in /usr/local/lib/python3.10/dist-packages (2.13.1)\n",
            "Collecting tensorflow_text\n",
            "  Downloading tensorflow_text-2.13.0-cp310-cp310-manylinux_2_17_x86_64.manylinux2014_x86_64.whl (6.5 MB)\n",
            "\u001b[2K     \u001b[90m━━━━━━━━━━━━━━━━━━━━━━━━━━━━━━━━━━━━━━━━\u001b[0m \u001b[32m6.5/6.5 MB\u001b[0m \u001b[31m13.5 MB/s\u001b[0m eta \u001b[36m0:00:00\u001b[0m\n",
            "\u001b[?25hRequirement already satisfied: tensorflow-hub>=0.8.0 in /usr/local/lib/python3.10/dist-packages (from tensorflow_text) (0.14.0)\n",
            "Requirement already satisfied: tensorflow<2.14,>=2.13.0 in /usr/local/lib/python3.10/dist-packages (from tensorflow_text) (2.13.0)\n",
            "Requirement already satisfied: absl-py>=1.0.0 in /usr/local/lib/python3.10/dist-packages (from tensorflow<2.14,>=2.13.0->tensorflow_text) (1.4.0)\n",
            "Requirement already satisfied: astunparse>=1.6.0 in /usr/local/lib/python3.10/dist-packages (from tensorflow<2.14,>=2.13.0->tensorflow_text) (1.6.3)\n",
            "Requirement already satisfied: flatbuffers>=23.1.21 in /usr/local/lib/python3.10/dist-packages (from tensorflow<2.14,>=2.13.0->tensorflow_text) (23.5.26)\n",
            "Requirement already satisfied: gast<=0.4.0,>=0.2.1 in /usr/local/lib/python3.10/dist-packages (from tensorflow<2.14,>=2.13.0->tensorflow_text) (0.4.0)\n",
            "Requirement already satisfied: google-pasta>=0.1.1 in /usr/local/lib/python3.10/dist-packages (from tensorflow<2.14,>=2.13.0->tensorflow_text) (0.2.0)\n",
            "Requirement already satisfied: grpcio<2.0,>=1.24.3 in /usr/local/lib/python3.10/dist-packages (from tensorflow<2.14,>=2.13.0->tensorflow_text) (1.56.2)\n",
            "Requirement already satisfied: h5py>=2.9.0 in /usr/local/lib/python3.10/dist-packages (from tensorflow<2.14,>=2.13.0->tensorflow_text) (3.8.0)\n",
            "Requirement already satisfied: keras<2.14,>=2.13.1 in /usr/local/lib/python3.10/dist-packages (from tensorflow<2.14,>=2.13.0->tensorflow_text) (2.13.1)\n",
            "Requirement already satisfied: libclang>=13.0.0 in /usr/local/lib/python3.10/dist-packages (from tensorflow<2.14,>=2.13.0->tensorflow_text) (16.0.6)\n",
            "Requirement already satisfied: numpy<=1.24.3,>=1.22 in /usr/local/lib/python3.10/dist-packages (from tensorflow<2.14,>=2.13.0->tensorflow_text) (1.22.4)\n",
            "Requirement already satisfied: opt-einsum>=2.3.2 in /usr/local/lib/python3.10/dist-packages (from tensorflow<2.14,>=2.13.0->tensorflow_text) (3.3.0)\n",
            "Requirement already satisfied: packaging in /usr/local/lib/python3.10/dist-packages (from tensorflow<2.14,>=2.13.0->tensorflow_text) (23.1)\n",
            "Requirement already satisfied: protobuf!=4.21.0,!=4.21.1,!=4.21.2,!=4.21.3,!=4.21.4,!=4.21.5,<5.0.0dev,>=3.20.3 in /usr/local/lib/python3.10/dist-packages (from tensorflow<2.14,>=2.13.0->tensorflow_text) (3.20.3)\n",
            "Requirement already satisfied: setuptools in /usr/local/lib/python3.10/dist-packages (from tensorflow<2.14,>=2.13.0->tensorflow_text) (67.7.2)\n",
            "Requirement already satisfied: six>=1.12.0 in /usr/local/lib/python3.10/dist-packages (from tensorflow<2.14,>=2.13.0->tensorflow_text) (1.16.0)\n",
            "Requirement already satisfied: tensorboard<2.14,>=2.13 in /usr/local/lib/python3.10/dist-packages (from tensorflow<2.14,>=2.13.0->tensorflow_text) (2.13.0)\n",
            "Requirement already satisfied: tensorflow-estimator<2.14,>=2.13.0 in /usr/local/lib/python3.10/dist-packages (from tensorflow<2.14,>=2.13.0->tensorflow_text) (2.13.0)\n",
            "Requirement already satisfied: termcolor>=1.1.0 in /usr/local/lib/python3.10/dist-packages (from tensorflow<2.14,>=2.13.0->tensorflow_text) (2.3.0)\n",
            "Requirement already satisfied: typing-extensions<4.6.0,>=3.6.6 in /usr/local/lib/python3.10/dist-packages (from tensorflow<2.14,>=2.13.0->tensorflow_text) (4.5.0)\n",
            "Requirement already satisfied: wrapt>=1.11.0 in /usr/local/lib/python3.10/dist-packages (from tensorflow<2.14,>=2.13.0->tensorflow_text) (1.14.1)\n",
            "Requirement already satisfied: tensorflow-io-gcs-filesystem>=0.23.1 in /usr/local/lib/python3.10/dist-packages (from tensorflow<2.14,>=2.13.0->tensorflow_text) (0.32.0)\n",
            "Requirement already satisfied: wheel<1.0,>=0.23.0 in /usr/local/lib/python3.10/dist-packages (from astunparse>=1.6.0->tensorflow<2.14,>=2.13.0->tensorflow_text) (0.41.0)\n",
            "Requirement already satisfied: google-auth<3,>=1.6.3 in /usr/local/lib/python3.10/dist-packages (from tensorboard<2.14,>=2.13->tensorflow<2.14,>=2.13.0->tensorflow_text) (2.17.3)\n",
            "Requirement already satisfied: google-auth-oauthlib<1.1,>=0.5 in /usr/local/lib/python3.10/dist-packages (from tensorboard<2.14,>=2.13->tensorflow<2.14,>=2.13.0->tensorflow_text) (1.0.0)\n",
            "Requirement already satisfied: markdown>=2.6.8 in /usr/local/lib/python3.10/dist-packages (from tensorboard<2.14,>=2.13->tensorflow<2.14,>=2.13.0->tensorflow_text) (3.4.4)\n",
            "Requirement already satisfied: requests<3,>=2.21.0 in /usr/local/lib/python3.10/dist-packages (from tensorboard<2.14,>=2.13->tensorflow<2.14,>=2.13.0->tensorflow_text) (2.27.1)\n",
            "Requirement already satisfied: tensorboard-data-server<0.8.0,>=0.7.0 in /usr/local/lib/python3.10/dist-packages (from tensorboard<2.14,>=2.13->tensorflow<2.14,>=2.13.0->tensorflow_text) (0.7.1)\n",
            "Requirement already satisfied: werkzeug>=1.0.1 in /usr/local/lib/python3.10/dist-packages (from tensorboard<2.14,>=2.13->tensorflow<2.14,>=2.13.0->tensorflow_text) (2.3.6)\n",
            "Requirement already satisfied: cachetools<6.0,>=2.0.0 in /usr/local/lib/python3.10/dist-packages (from google-auth<3,>=1.6.3->tensorboard<2.14,>=2.13->tensorflow<2.14,>=2.13.0->tensorflow_text) (5.3.1)\n",
            "Requirement already satisfied: pyasn1-modules>=0.2.1 in /usr/local/lib/python3.10/dist-packages (from google-auth<3,>=1.6.3->tensorboard<2.14,>=2.13->tensorflow<2.14,>=2.13.0->tensorflow_text) (0.3.0)\n",
            "Requirement already satisfied: rsa<5,>=3.1.4 in /usr/local/lib/python3.10/dist-packages (from google-auth<3,>=1.6.3->tensorboard<2.14,>=2.13->tensorflow<2.14,>=2.13.0->tensorflow_text) (4.9)\n",
            "Requirement already satisfied: requests-oauthlib>=0.7.0 in /usr/local/lib/python3.10/dist-packages (from google-auth-oauthlib<1.1,>=0.5->tensorboard<2.14,>=2.13->tensorflow<2.14,>=2.13.0->tensorflow_text) (1.3.1)\n",
            "Requirement already satisfied: urllib3<1.27,>=1.21.1 in /usr/local/lib/python3.10/dist-packages (from requests<3,>=2.21.0->tensorboard<2.14,>=2.13->tensorflow<2.14,>=2.13.0->tensorflow_text) (1.26.16)\n",
            "Requirement already satisfied: certifi>=2017.4.17 in /usr/local/lib/python3.10/dist-packages (from requests<3,>=2.21.0->tensorboard<2.14,>=2.13->tensorflow<2.14,>=2.13.0->tensorflow_text) (2023.7.22)\n",
            "Requirement already satisfied: charset-normalizer~=2.0.0 in /usr/local/lib/python3.10/dist-packages (from requests<3,>=2.21.0->tensorboard<2.14,>=2.13->tensorflow<2.14,>=2.13.0->tensorflow_text) (2.0.12)\n",
            "Requirement already satisfied: idna<4,>=2.5 in /usr/local/lib/python3.10/dist-packages (from requests<3,>=2.21.0->tensorboard<2.14,>=2.13->tensorflow<2.14,>=2.13.0->tensorflow_text) (3.4)\n",
            "Requirement already satisfied: MarkupSafe>=2.1.1 in /usr/local/lib/python3.10/dist-packages (from werkzeug>=1.0.1->tensorboard<2.14,>=2.13->tensorflow<2.14,>=2.13.0->tensorflow_text) (2.1.3)\n",
            "Requirement already satisfied: pyasn1<0.6.0,>=0.4.6 in /usr/local/lib/python3.10/dist-packages (from pyasn1-modules>=0.2.1->google-auth<3,>=1.6.3->tensorboard<2.14,>=2.13->tensorflow<2.14,>=2.13.0->tensorflow_text) (0.5.0)\n",
            "Requirement already satisfied: oauthlib>=3.0.0 in /usr/local/lib/python3.10/dist-packages (from requests-oauthlib>=0.7.0->google-auth-oauthlib<1.1,>=0.5->tensorboard<2.14,>=2.13->tensorflow<2.14,>=2.13.0->tensorflow_text) (3.2.2)\n",
            "Installing collected packages: tensorflow_text\n",
            "Successfully installed tensorflow_text-2.13.0\n"
          ]
        }
      ],
      "source": [
        "!pip install --upgrade tensorflow\n",
        "!pip install --upgrade keras\n",
        "!pip install --upgrade tensorflow_text"
      ]
    },
    {
      "cell_type": "code",
      "execution_count": null,
      "metadata": {
        "colab": {
          "base_uri": "https://localhost:8080/",
          "height": 448
        },
        "id": "fWGWhafPkV1A",
        "outputId": "17acf8f8-d54c-46f6-8ab1-4b3a1dbaf978"
      },
      "outputs": [
        {
          "data": {
            "image/png": "[encoded data removed]",
            "text/plain": [
              "<Figure size 640x480 with 1 Axes>"
            ]
          },
          "metadata": {},
          "output_type": "display_data"
        },
        {
          "name": "stdout",
          "output_type": "stream",
          "text": [
            "63489\n"
          ]
        }
      ],
      "source": [
        "# Ver la distribución de las longitudes de las palabras\n",
        "df['reviewText'].str.split().apply(len).hist() # Tamaño vocabulario\n",
        "plt.xlim([0,200]) # La mayoria se encuentra entre 0 y 200\n",
        "plt.show()\n",
        "\n",
        "# Ver el número total de palabras únicas\n",
        "print(len(pd.Series(' '.join(df['reviewText']).split()).value_counts()))"
      ]
    },
    {
      "cell_type": "code",
      "execution_count": null,
      "metadata": {
        "id": "uZM_NW1yxH3k"
      },
      "outputs": [],
      "source": [
        " # Librerias de keras\n",
        "from keras.callbacks import EarlyStopping, ReduceLROnPlateau\n",
        "from keras.preprocessing.text import Tokenizer\n",
        "from keras.models import Sequential\n",
        "from keras.layers import Embedding, LSTM, Dense, Dropout, GRU, SimpleRNN\n",
        "from keras import regularizers\n",
        "from keras.utils import to_categorical\n",
        "from keras.preprocessing.text import Tokenizer\n",
        "from keras.preprocessing.sequence import pad_sequences\n",
        "import gensim\n",
        "import multiprocessing as mp\n",
        "from keras.datasets import imdb\n",
        "from sklearn.preprocessing import LabelEncoder"
      ]
    },
    {
      "cell_type": "code",
      "execution_count": null,
      "metadata": {
        "id": "y_aA8vlob3xD"
      },
      "outputs": [],
      "source": [
        "# Tamaño del vocabulario\n",
        "vocab_size = 63489\n",
        "vocabulary_size = 63489\n",
        "\n",
        "# Longitud máxima del texto\n",
        "max_length = 175\n",
        "\n",
        "# Instancia del Tokenizer\n",
        "tokenizer = Tokenizer(num_words=vocab_size)\n",
        "\n",
        "# Ajustar el tokenizer a tus datos\n",
        "tokenizer.fit_on_texts(X_train)\n",
        "\n",
        "# Convertir el texto a secuencias de tokens\n",
        "X_train_seq = tokenizer.texts_to_sequences(X_train)\n",
        "X_test_seq = tokenizer.texts_to_sequences(X_test)\n",
        "\n",
        "# Asegurarse de que todas las secuencias tienen la misma longitud\n",
        "X_train_pad = pad_sequences(X_train_seq, maxlen=max_length)\n",
        "X_test_pad = pad_sequences(X_test_seq, maxlen=max_length)\n"
      ]
    },
    {
      "cell_type": "code",
      "execution_count": null,
      "metadata": {
        "id": "Wze7AsNmkP2g"
      },
      "outputs": [],
      "source": [
        "y_train_cat = to_categorical(y_train)\n",
        "y_test_cat = to_categorical(y_test)"
      ]
    },
    {
      "cell_type": "markdown",
      "metadata": {
        "id": "p35fl2J4y0Aa"
      },
      "source": [
        "**Modelo utilizando LSTM**"
      ]
    },
    {
      "cell_type": "code",
      "execution_count": null,
      "metadata": {
        "colab": {
          "base_uri": "https://localhost:8080/"
        },
        "id": "1cZ5KIRpzBas",
        "outputId": "ba203f2e-4efd-4147-b780-a3f9d507722e"
      },
      "outputs": [
        {
          "name": "stdout",
          "output_type": "stream",
          "text": [
            "Model: \"sequential\"\n",
            "_________________________________________________________________\n",
            " Layer (type)                Output Shape              Param #   \n",
            "=================================================================\n",
            " embedding (Embedding)       (None, 175, 32)           2031648   \n",
            "                                                                 \n",
            " dropout (Dropout)           (None, 175, 32)           0         \n",
            "                                                                 \n",
            " lstm (LSTM)                 (None, 50)                16600     \n",
            "                                                                 \n",
            " dropout_1 (Dropout)         (None, 50)                0         \n",
            "                                                                 \n",
            " dense (Dense)               (None, 1)                 51        \n",
            "                                                                 \n",
            "=================================================================\n",
            "Total params: 2048299 (7.81 MB)\n",
            "Trainable params: 2048299 (7.81 MB)\n",
            "Non-trainable params: 0 (0.00 Byte)\n",
            "_________________________________________________________________\n",
            "None\n"
          ]
        }
      ],
      "source": [
        "embedding_size = 32\n",
        "max_words = 175 # el mismo valor que usaste para max_len en pad_sequences\n",
        "\n",
        "model_LSTM = Sequential()\n",
        "model_LSTM.add(Embedding(vocabulary_size, embedding_size, input_length=max_words))\n",
        "model_LSTM.add(Dropout(0.5))  # Añade una capa de Dropout después de la capa de Embedding para mejorar overfitting\n",
        "\n",
        "# Capa LSTM  de 50, si es mayor hay overfitting  \n",
        "model_LSTM.add(LSTM(50, kernel_regularizer=regularizers.l1_l2(l1=0.001, l2=0.001))) # Regularización Elastic Net L1+L2 para mejorar el overfitting\n",
        "model_LSTM.add(Dropout(0.5))  # Añade una capa de Dropout después de la capa LSTM para mejorar overfiting\n",
        "model_LSTM.add(Dense(1, activation='sigmoid'))\n",
        "\n",
        "print(model_LSTM.summary())"
      ]
    },
    {
      "cell_type": "code",
      "execution_count": null,
      "metadata": {
        "id": "BG6rQ8xazBjf"
      },
      "outputs": [],
      "source": [
        "# Compilar el modelo\n",
        "model_LSTM.compile(optimizer='adam', loss='binary_crossentropy', metrics=['accuracy'])\n"
      ]
    },
    {
      "cell_type": "code",
      "execution_count": null,
      "metadata": {
        "colab": {
          "base_uri": "https://localhost:8080/"
        },
        "id": "1lJ_esrIzK7S",
        "outputId": "fcee811f-bd0d-43b8-df39-3aa23e34883a"
      },
      "outputs": [
        {
          "name": "stdout",
          "output_type": "stream",
          "text": [
            "Epoch 1/10\n",
            "294/294 [==============================] - 125s 399ms/step - loss: 0.7261 - accuracy: 0.6785 - val_loss: 0.4934 - val_accuracy: 0.7904\n",
            "Epoch 2/10\n",
            "294/294 [==============================] - 67s 226ms/step - loss: 0.4410 - accuracy: 0.8195 - val_loss: 0.4763 - val_accuracy: 0.7974\n",
            "Epoch 3/10\n",
            "294/294 [==============================] - 43s 144ms/step - loss: 0.3655 - accuracy: 0.8615 - val_loss: 0.4590 - val_accuracy: 0.8060\n",
            "Epoch 4/10\n",
            "294/294 [==============================] - 28s 96ms/step - loss: 0.3109 - accuracy: 0.8832 - val_loss: 0.5229 - val_accuracy: 0.7974\n",
            "Epoch 5/10\n",
            "294/294 [==============================] - 29s 99ms/step - loss: 0.2702 - accuracy: 0.9033 - val_loss: 0.5070 - val_accuracy: 0.7889\n"
          ]
        }
      ],
      "source": [
        "batch_size = 64\n",
        "num_epochs = 10\n",
        "\n",
        "# Usar early_stopping para que se pare si val_loss se repite\n",
        "early_stopping = EarlyStopping(monitor='val_loss', patience=2)\n",
        "\n",
        "# Ajustar el modelo\n",
        "history = model_LSTM.fit(X_train_pad, y_train, batch_size=batch_size, epochs=num_epochs, verbose=1, validation_data=(X_test_pad, y_test), callbacks=[early_stopping])"
      ]
    },
    {
      "cell_type": "code",
      "execution_count": null,
      "metadata": {
        "colab": {
          "base_uri": "https://localhost:8080/",
          "height": 984
        },
        "id": "8G2f2YXxzOEB",
        "outputId": "477f558f-e633-4c8c-d3fe-36256b2affd8"
      },
      "outputs": [
        {
          "name": "stdout",
          "output_type": "stream",
          "text": [
            "147/147 [==============================] - 2s 12ms/step - loss: 0.5070 - accuracy: 0.7889\n",
            "Loss: 0.5069781541824341\n",
            "Accuracy: 0.788936197757721\n"
          ]
        },
        {
          "data": {
            "image/png": "[encoded data removed]",
            "text/plain": [
              "<Figure size 640x480 with 1 Axes>"
            ]
          },
          "metadata": {},
          "output_type": "display_data"
        },
        {
          "data": {
            "image/png": "[encoded data removed]",
            "text/plain": [
              "<Figure size 640x480 with 1 Axes>"
            ]
          },
          "metadata": {},
          "output_type": "display_data"
        }
      ],
      "source": [
        "# Evaluar el modelo\n",
        "loss, accuracy = model_LSTM.evaluate(X_test_pad, y_test)\n",
        "print(\"Loss:\", loss)\n",
        "print(\"Accuracy:\", accuracy)\n",
        "\n",
        "# Graficar la precisión y la pérdida en el entrenamiento y la validación\n",
        "plt.plot(history.history['accuracy'])\n",
        "plt.plot(history.history['val_accuracy'])\n",
        "plt.title('Precisión del modelo')\n",
        "plt.ylabel('Precisión')\n",
        "plt.xlabel('Época')\n",
        "plt.legend(['Entrenamiento', 'Validación'], loc='upper left')\n",
        "plt.show()\n",
        "\n",
        "plt.plot(history.history['loss'])\n",
        "plt.plot(history.history['val_loss'])\n",
        "plt.title('Pérdida del modelo')\n",
        "plt.ylabel('Pérdida')\n",
        "plt.xlabel('Época')\n",
        "plt.legend(['Entrenamiento', 'Validación'], loc='upper left')\n",
        "plt.show()"
      ]
    },
    {
      "cell_type": "code",
      "execution_count": null,
      "metadata": {
        "colab": {
          "base_uri": "https://localhost:8080/"
        },
        "id": "0ljLGT6IzQ_3",
        "outputId": "0fe1bf3c-416a-4cdf-e8c4-0b20951eb98f"
      },
      "outputs": [
        {
          "data": {
            "text/plain": [
              "{'loss': [0.7260501980781555,\n",
              "  0.44096872210502625,\n",
              "  0.36548158526420593,\n",
              "  0.3109329342842102,\n",
              "  0.2701980769634247],\n",
              " 'accuracy': [0.6784574389457703,\n",
              "  0.819468080997467,\n",
              "  0.8615425825119019,\n",
              "  0.8832446932792664,\n",
              "  0.9032979011535645],\n",
              " 'val_loss': [0.49337050318717957,\n",
              "  0.4763217866420746,\n",
              "  0.4590417146682739,\n",
              "  0.5228997468948364,\n",
              "  0.5069780349731445],\n",
              " 'val_accuracy': [0.7904255390167236,\n",
              "  0.7974467873573303,\n",
              "  0.8059574365615845,\n",
              "  0.7974467873573303,\n",
              "  0.788936197757721]}"
            ]
          },
          "execution_count": 23,
          "metadata": {},
          "output_type": "execute_result"
        }
      ],
      "source": [
        "history.history"
      ]
    },
    {
      "cell_type": "markdown",
      "metadata": {
        "id": "MSNhIxpQzocu"
      },
      "source": [
        "**Modelo utilizando GRUV2**"
      ]
    },
    {
      "cell_type": "code",
      "execution_count": null,
      "metadata": {
        "colab": {
          "base_uri": "https://localhost:8080/"
        },
        "id": "yp8lMLRDqGx6",
        "outputId": "d0703187-dbe9-48f5-ac61-c7ae3aa4b80a"
      },
      "outputs": [
        {
          "name": "stdout",
          "output_type": "stream",
          "text": [
            "Model: \"sequential_1\"\n",
            "_________________________________________________________________\n",
            " Layer (type)                Output Shape              Param #   \n",
            "=================================================================\n",
            " embedding_1 (Embedding)     (None, 175, 32)           2031648   \n",
            "                                                                 \n",
            " dropout_2 (Dropout)         (None, 175, 32)           0         \n",
            "                                                                 \n",
            " gru (GRU)                   (None, 50)                12600     \n",
            "                                                                 \n",
            " dropout_3 (Dropout)         (None, 50)                0         \n",
            "                                                                 \n",
            " dense_1 (Dense)             (None, 1)                 51        \n",
            "                                                                 \n",
            "=================================================================\n",
            "Total params: 2044299 (7.80 MB)\n",
            "Trainable params: 2044299 (7.80 MB)\n",
            "Non-trainable params: 0 (0.00 Byte)\n",
            "_________________________________________________________________\n",
            "None\n"
          ]
        }
      ],
      "source": [
        "vocabulary_size = 63489\n",
        "embedding_size = 32\n",
        "max_words = 175 # El mismo valor que usaste para max_len en pad_sequences\n",
        "\n",
        "model = Sequential()\n",
        "model.add(Embedding(vocabulary_size, embedding_size, input_length=max_words))\n",
        "model.add(Dropout(0.5))  # Añade una capa de Dropout después de la capa de Embedding para mejorar overfiting\n",
        "\n",
        "model.add(GRU(50, kernel_regularizer=regularizers.l1_l2(l1=0.001, l2=0.001))) # Capa GRU de 50 por overfitting   # Regularización Elastic Net L1+L2\n",
        "model.add(Dropout(0.5))  # Añade una capa de Dropout después de la capa GRU para mejorar overfiting\n",
        "model.add(Dense(1, activation='sigmoid'))\n",
        "\n",
        "print(model.summary())"
      ]
    },
    {
      "cell_type": "code",
      "execution_count": null,
      "metadata": {
        "id": "ltKHSp7kqeeU"
      },
      "outputs": [],
      "source": [
        "# Compilar el modelo\n",
        "model.compile(optimizer='adam', loss='binary_crossentropy', metrics=['accuracy'])\n"
      ]
    },
    {
      "cell_type": "code",
      "execution_count": null,
      "metadata": {
        "colab": {
          "base_uri": "https://localhost:8080/"
        },
        "id": "GD23Mhy1rDaS",
        "outputId": "0275e1b9-8a01-461b-ddfb-7fc7ac545336"
      },
      "outputs": [
        {
          "name": "stdout",
          "output_type": "stream",
          "text": [
            "Epoch 1/10\n",
            "294/294 [==============================] - 104s 344ms/step - loss: 0.7308 - accuracy: 0.6577 - val_loss: 0.4798 - val_accuracy: 0.7830\n",
            "Epoch 2/10\n",
            "294/294 [==============================] - 64s 216ms/step - loss: 0.4441 - accuracy: 0.8131 - val_loss: 0.4383 - val_accuracy: 0.8072\n",
            "Epoch 3/10\n",
            "294/294 [==============================] - 42s 143ms/step - loss: 0.3583 - accuracy: 0.8588 - val_loss: 0.4492 - val_accuracy: 0.8064\n",
            "Epoch 4/10\n",
            "294/294 [==============================] - 28s 95ms/step - loss: 0.3086 - accuracy: 0.8823 - val_loss: 0.4827 - val_accuracy: 0.7791\n"
          ]
        }
      ],
      "source": [
        "batch_size = 64\n",
        "num_epochs = 10\n",
        "\n",
        "# Usar early_stopping para que se pare si val_loss se repite\n",
        "early_stopping = EarlyStopping(monitor='val_loss', patience=2)\n",
        "\n",
        "# Ajustar el modelo\n",
        "history = model.fit(X_train_pad, y_train, batch_size=batch_size, epochs=num_epochs, verbose=1, validation_data=(X_test_pad, y_test), callbacks=[early_stopping])"
      ]
    },
    {
      "cell_type": "code",
      "execution_count": null,
      "metadata": {
        "colab": {
          "base_uri": "https://localhost:8080/",
          "height": 984
        },
        "id": "f8y2y8tktpNC",
        "outputId": "543d85a5-5225-4114-e168-852ee5b15cb4"
      },
      "outputs": [
        {
          "name": "stdout",
          "output_type": "stream",
          "text": [
            "147/147 [==============================] - 2s 14ms/step - loss: 0.4827 - accuracy: 0.7791\n",
            "Loss: 0.48270291090011597\n",
            "Accuracy: 0.7791489362716675\n"
          ]
        },
        {
          "data": {
            "image/png": "[encoded data removed]",
            "text/plain": [
              "<Figure size 640x480 with 1 Axes>"
            ]
          },
          "metadata": {},
          "output_type": "display_data"
        },
        {
          "data": {
            "image/png": "[encoded data removed]",
            "text/plain": [
              "<Figure size 640x480 with 1 Axes>"
            ]
          },
          "metadata": {},
          "output_type": "display_data"
        }
      ],
      "source": [
        "# Evaluamos el modelo\n",
        "loss, accuracy = model.evaluate(X_test_pad, y_test)\n",
        "print(\"Loss:\", loss)\n",
        "print(\"Accuracy:\", accuracy)\n",
        "\n",
        "# Graficamos la precisión y la pérdida en el entrenamiento y la validación\n",
        "plt.plot(history.history['accuracy'])\n",
        "plt.plot(history.history['val_accuracy'])\n",
        "plt.title('Precisión del modelo')\n",
        "plt.ylabel('Precisión')\n",
        "plt.xlabel('Época')\n",
        "plt.legend(['Entrenamiento', 'Validación'], loc='upper left')\n",
        "plt.show()\n",
        "\n",
        "plt.plot(history.history['loss'])\n",
        "plt.plot(history.history['val_loss'])\n",
        "plt.title('Pérdida del modelo')\n",
        "plt.ylabel('Pérdida')\n",
        "plt.xlabel('Época')\n",
        "plt.legend(['Entrenamiento', 'Validación'], loc='upper left')\n",
        "plt.show()"
      ]
    },
    {
      "cell_type": "code",
      "execution_count": null,
      "metadata": {
        "colab": {
          "base_uri": "https://localhost:8080/"
        },
        "id": "uLG7FrNKtrW3",
        "outputId": "48df9a04-2b1c-4ef6-9d9f-e60ea9e3d848"
      },
      "outputs": [
        {
          "data": {
            "text/plain": [
              "{'loss': [0.7307964563369751,\n",
              "  0.444111704826355,\n",
              "  0.35832130908966064,\n",
              "  0.3086490035057068],\n",
              " 'accuracy': [0.6576595902442932,\n",
              "  0.8130850791931152,\n",
              "  0.8588297963142395,\n",
              "  0.8822872042655945],\n",
              " 'val_loss': [0.4797939956188202,\n",
              "  0.4383433759212494,\n",
              "  0.4492090940475464,\n",
              "  0.48270314931869507],\n",
              " 'val_accuracy': [0.7829787135124207,\n",
              "  0.8072340488433838,\n",
              "  0.806382954120636,\n",
              "  0.7791489362716675]}"
            ]
          },
          "execution_count": 28,
          "metadata": {},
          "output_type": "execute_result"
        }
      ],
      "source": [
        "history.history"
      ]
    },
    {
      "cell_type": "markdown",
      "metadata": {
        "id": "RO4ai82Jz4Ox"
      },
      "source": [
        "**Modelo utilizando RNN + word2vec Embedding**"
      ]
    },
    {
      "cell_type": "code",
      "execution_count": null,
      "metadata": {
        "id": "rvQkAUPGz_wU"
      },
      "outputs": [],
      "source": [
        "# Parámetros del WORD2VEC\n",
        "W2V_SIZE = 300 # tamaño de vectores\n",
        "W2V_WINDOW = 7 # número de palabras que va a mirar alrededor\n",
        "# 32\n",
        "W2V_EPOCH = 5 # número de epoca\n",
        "W2V_MIN_COUNT = 2 #número mínimo de frecuencia\n",
        "\n",
        "# KERAS\n",
        "SEQUENCE_LENGTH = 175 # número de secuencias de keras (numero de palabras review)"
      ]
    },
    {
      "cell_type": "code",
      "execution_count": null,
      "metadata": {
        "id": "O9fix6wTz_yt"
      },
      "outputs": [],
      "source": [
        "def generate_tokenizer(train_df):\n",
        "  #generamos un identificador único para cada una de las palabras\n",
        "  #creamos el vocabulario (tenemos palabra y número)\n",
        "    tokenizer = Tokenizer()\n",
        "    tokenizer.fit_on_texts(train_df)\n",
        "    vocab_size = len(tokenizer.word_index) + 1\n",
        "    print(f\"Total words: {vocab_size}\")\n",
        "    return tokenizer, vocab_size"
      ]
    },
    {
      "cell_type": "code",
      "execution_count": null,
      "metadata": {
        "id": "iFSxtMXpz_02"
      },
      "outputs": [],
      "source": [
        "def generate_word2vec(train_df):\n",
        "  #para cada review la dividimos en tokens (palabras )\n",
        "  #para todos los documentos tiene todas las palabras generamos un identificados único para cada una de las palabras\n",
        "  #generamos el modelo, utilizamos la librería gemsin con los parametros definidos previamente, vocabulario y luego entrenamiento\n",
        "  #creamos representacion vecrtoriales (en arrays de 300 elementos)\n",
        "    documents = [_text.split() for _text in train_df.review]\n",
        "    w2v_model = gensim.models.word2vec.Word2Vec(\n",
        "        vector_size=W2V_SIZE,\n",
        "        window=W2V_WINDOW,\n",
        "        min_count=W2V_MIN_COUNT,\n",
        "        workers=mp.cpu_count(),\n",
        "    )\n",
        "    w2v_model.build_vocab(documents)\n",
        "\n",
        "    words = w2v_model.wv.key_to_index.keys()\n",
        "    vocab_size = len(words)\n",
        "    print(f\"Vocab size: {vocab_size}\")\n",
        "    w2v_model.train(documents, total_examples=len(documents), epochs=W2V_EPOCH)\n",
        "\n",
        "    return w2v_model"
      ]
    },
    {
      "cell_type": "code",
      "execution_count": null,
      "metadata": {
        "id": "-4XHtSOIz_24"
      },
      "outputs": [],
      "source": [
        "# Generamos la capa de embeddings\n",
        "# El modelo no tiene que hacer el fit de la capa de embeddings, se la damos dada\n",
        "\n",
        "def generate_embedding(word2vec_model, vocab_size, tokenizer):\n",
        "  # generamos un capa de embedding como en el ejemplo anterior con LSTM y GRU pero\n",
        "  # en este caso lo hacemos por separado y guardamos el objeto\n",
        "  # Generamos la matriz de embedding, inicializamos a 0 con el tamaño de  W2V y vocabulario\n",
        "  # Para cada palabra del vocabulario generamos la representación vectorial de w2v\n",
        "  # y se la asignamos a la matriz. De este modo, generamos la matrix de equivalencia\n",
        "    embedding_matrix = np.zeros((vocab_size, W2V_SIZE))\n",
        "    for word, i in tokenizer.word_index.items():\n",
        "        if word in word2vec_model.wv:\n",
        "            embedding_matrix[i] = word2vec_model.wv[word]\n",
        "    return Embedding(\n",
        "        vocab_size,\n",
        "        W2V_SIZE,\n",
        "        weights=[embedding_matrix],\n",
        "        input_length=SEQUENCE_LENGTH,\n",
        "        # Con trainable le indicamos que no se modificar lo que ya viene dentro de esa capa\n",
        "        trainable=False,\n",
        "    )\n",
        "\n",
        "    # Devuelve la capa de embedding"
      ]
    },
    {
      "cell_type": "code",
      "execution_count": null,
      "metadata": {
        "id": "Gcju1-Jy0n-M"
      },
      "outputs": [],
      "source": [
        "#cargamos los datos con imdb. Tendremos el vocabularion con los índices\n",
        "(X_train, y_train), (X_test, y_test) = imdb.load_data(num_words=vocabulary_size)"
      ]
    },
    {
      "cell_type": "code",
      "execution_count": null,
      "metadata": {
        "id": "5l-5EE3R0oBG"
      },
      "outputs": [],
      "source": [
        "#convertimos a palabras. Una lista con cada review (un string único)\n",
        "word2id = imdb.get_word_index()\n",
        "id2word = {i: word for word, i in word2id.items()}\n",
        "\n",
        "X_train_words = []\n",
        "for index, example in enumerate(X_train):\n",
        "  words = \" \".join([id2word.get(i, \" \") for i in X_train[index]]).strip()\n",
        "  X_train_words.append(words)"
      ]
    },
    {
      "cell_type": "code",
      "execution_count": null,
      "metadata": {
        "id": "-i3Q2_i30sIa"
      },
      "outputs": [],
      "source": [
        "X_test_words = []\n",
        "for index, example in enumerate(X_test):\n",
        "  words = \" \".join([id2word.get(i, \" \") for i in X_test[index]]).strip()\n",
        "  X_test_words.append(words)"
      ]
    },
    {
      "cell_type": "code",
      "execution_count": null,
      "metadata": {
        "colab": {
          "base_uri": "https://localhost:8080/",
          "height": 125
        },
        "id": "QxpocNdW0sLj",
        "outputId": "7e6c13e2-7677-470a-9f81-666e116836bf"
      },
      "outputs": [
        {
          "data": {
            "application/vnd.google.colaboratory.intrinsic+json": {
              "type": "string"
            },
            "text/plain": [
              "\"the clear fact entertaining there life back br is safely show of performance stars br actors film him many should movie reasons to mikey reading blended are in of scenes jada carbon of safely out compared not boss yes to sentiment show its disappointed fact raw to it justice by br of where clear fact many your way jada with city nice are is along wrong not as it way she but this anything up haven't been by who of choices br of you to as this i'd it mcdoakes who of shot you'll to love for updated of you it is sequels of little quest are seen watched front chemistry to simply alive of chris being it is say easy reservation cry in chemistry but voodoo all it maybe this is wing film job live of objects relief aneta level names lifelong dunne to be stops serial 1948 watch is men go this of wing american from russo moving is accepted put this of jerry for places so work moby watch holodeck lot br that from sometimes wondered make department introduced to wondered from action at turns in low that in gay i'm of chemistry bible i i simply alive it is time done inspector to watching look world named for more tells up many fans are that movie music her get grasp but seems in people film that if explain in why for jada find of where br if carlo movie throughout if irritable of you best look red startling to recently in successfully much unfortunately going dan colman's stuck is him sequences but of you of enough for its br that beautiful put reasons of chris chemistry wing proposal for of you red time trivia to as companion payoff of chris less br of subplots torture in low alive in gay some br of wing if time actual in also side any if name takes for of friendship it of 10 for had grande great to as you students for movie of going proposal for bad well best had at woman br musical when it caused of gripping to as gem in updated for jada look end gene in at world aliens of you it meet but is quite br western ideas of chris little of films he an time done this were right too to of enough for of ending become family beautiful are make right being it time much bit especially craig for of you parts bond who of here parts at due given movie of once give find actor to recently in at world dolls loved jada it is video him fact you to by br of where br of grown fight culture leads\""
            ]
          },
          "execution_count": 95,
          "metadata": {},
          "output_type": "execute_result"
        }
      ],
      "source": [
        "X_train_words[10]"
      ]
    },
    {
      "cell_type": "code",
      "execution_count": null,
      "metadata": {
        "id": "BLd2cUkW0xsK"
      },
      "outputs": [],
      "source": [
        "X_train_words = pd.DataFrame(X_train_words, columns=[\"review\"])\n",
        "X_test_words = pd.DataFrame(X_test_words, columns=[\"review\"])"
      ]
    },
    {
      "cell_type": "code",
      "execution_count": null,
      "metadata": {
        "colab": {
          "base_uri": "https://localhost:8080/",
          "height": 206
        },
        "id": "99BrikcN0yPC",
        "outputId": "7ebe8b15-867b-4bb8-9f59-2417924a1308"
      },
      "outputs": [
        {
          "data": {
            "text/html": [
              "\n",
              "\n",
              "  <div id=\"df-dad84cde-9c61-45f7-80c7-150c11b2e506\">\n",
              "    <div class=\"colab-df-container\">\n",
              "      <div>\n",
              "<style scoped>\n",
              "    .dataframe tbody tr th:only-of-type {\n",
              "        vertical-align: middle;\n",
              "    }\n",
              "\n",
              "    .dataframe tbody tr th {\n",
              "        vertical-align: top;\n",
              "    }\n",
              "\n",
              "    .dataframe thead th {\n",
              "        text-align: right;\n",
              "    }\n",
              "</style>\n",
              "<table border=\"1\" class=\"dataframe\">\n",
              "  <thead>\n",
              "    <tr style=\"text-align: right;\">\n",
              "      <th></th>\n",
              "      <th>review</th>\n",
              "    </tr>\n",
              "  </thead>\n",
              "  <tbody>\n",
              "    <tr>\n",
              "      <th>0</th>\n",
              "      <td>the as you with out themselves powerful lets l...</td>\n",
              "    </tr>\n",
              "    <tr>\n",
              "      <th>1</th>\n",
              "      <td>the thought solid thought senator do making to...</td>\n",
              "    </tr>\n",
              "    <tr>\n",
              "      <th>2</th>\n",
              "      <td>the as there in at by br of sure many br of pr...</td>\n",
              "    </tr>\n",
              "    <tr>\n",
              "      <th>3</th>\n",
              "      <td>the of bernadette mon they halfway of identity...</td>\n",
              "    </tr>\n",
              "    <tr>\n",
              "      <th>4</th>\n",
              "      <td>the sure themes br only acting i i was favouri...</td>\n",
              "    </tr>\n",
              "  </tbody>\n",
              "</table>\n",
              "</div>\n",
              "      <button class=\"colab-df-convert\" onclick=\"convertToInteractive('df-dad84cde-9c61-45f7-80c7-150c11b2e506')\"\n",
              "              title=\"Convert this dataframe to an interactive table.\"\n",
              "              style=\"display:none;\">\n",
              "\n",
              "  <svg xmlns=\"http://www.w3.org/2000/svg\" height=\"24px\"viewBox=\"0 0 24 24\"\n",
              "       width=\"24px\">\n",
              "    <path d=\"M0 0h24v24H0V0z\" fill=\"none\"/>\n",
              "    <path d=\"M18.56 5.44l.94 2.06.94-2.06 2.06-.94-2.06-.94-.94-2.06-.94 2.06-2.06.94zm-11 1L8.5 8.5l.94-2.06 2.06-.94-2.06-.94L8.5 2.5l-.94 2.06-2.06.94zm10 10l.94 2.06.94-2.06 2.06-.94-2.06-.94-.94-2.06-.94 2.06-2.06.94z\"/><path d=\"M17.41 7.96l-1.37-1.37c-.4-.4-.92-.59-1.43-.59-.52 0-1.04.2-1.43.59L10.3 9.45l-7.72 7.72c-.78.78-.78 2.05 0 2.83L4 21.41c.39.39.9.59 1.41.59.51 0 1.02-.2 1.41-.59l7.78-7.78 2.81-2.81c.8-.78.8-2.07 0-2.86zM5.41 20L4 18.59l7.72-7.72 1.47 1.35L5.41 20z\"/>\n",
              "  </svg>\n",
              "      </button>\n",
              "\n",
              "\n",
              "\n",
              "    <div id=\"df-05368617-1617-4e03-8978-95ab2a733599\">\n",
              "      <button class=\"colab-df-quickchart\" onclick=\"quickchart('df-05368617-1617-4e03-8978-95ab2a733599')\"\n",
              "              title=\"Suggest charts.\"\n",
              "              style=\"display:none;\">\n",
              "\n",
              "<svg xmlns=\"http://www.w3.org/2000/svg\" height=\"24px\"viewBox=\"0 0 24 24\"\n",
              "     width=\"24px\">\n",
              "    <g>\n",
              "        <path d=\"M19 3H5c-1.1 0-2 .9-2 2v14c0 1.1.9 2 2 2h14c1.1 0 2-.9 2-2V5c0-1.1-.9-2-2-2zM9 17H7v-7h2v7zm4 0h-2V7h2v10zm4 0h-2v-4h2v4z\"/>\n",
              "    </g>\n",
              "</svg>\n",
              "      </button>\n",
              "    </div>\n",
              "\n",
              "<style>\n",
              "  .colab-df-quickchart {\n",
              "    background-color: #E8F0FE;\n",
              "    border: none;\n",
              "    border-radius: 50%;\n",
              "    cursor: pointer;\n",
              "    display: none;\n",
              "    fill: #1967D2;\n",
              "    height: 32px;\n",
              "    padding: 0 0 0 0;\n",
              "    width: 32px;\n",
              "  }\n",
              "\n",
              "  .colab-df-quickchart:hover {\n",
              "    background-color: #E2EBFA;\n",
              "    box-shadow: 0px 1px 2px rgba(60, 64, 67, 0.3), 0px 1px 3px 1px rgba(60, 64, 67, 0.15);\n",
              "    fill: #174EA6;\n",
              "  }\n",
              "\n",
              "  [theme=dark] .colab-df-quickchart {\n",
              "    background-color: #3B4455;\n",
              "    fill: #D2E3FC;\n",
              "  }\n",
              "\n",
              "  [theme=dark] .colab-df-quickchart:hover {\n",
              "    background-color: #434B5C;\n",
              "    box-shadow: 0px 1px 3px 1px rgba(0, 0, 0, 0.15);\n",
              "    filter: drop-shadow(0px 1px 2px rgba(0, 0, 0, 0.3));\n",
              "    fill: #FFFFFF;\n",
              "  }\n",
              "</style>\n",
              "\n",
              "    <script>\n",
              "      async function quickchart(key) {\n",
              "        const containerElement = document.querySelector('#' + key);\n",
              "        const charts = await google.colab.kernel.invokeFunction(\n",
              "            'suggestCharts', [key], {});\n",
              "      }\n",
              "    </script>\n",
              "\n",
              "      <script>\n",
              "\n",
              "function displayQuickchartButton(domScope) {\n",
              "  let quickchartButtonEl =\n",
              "    domScope.querySelector('#df-05368617-1617-4e03-8978-95ab2a733599 button.colab-df-quickchart');\n",
              "  quickchartButtonEl.style.display =\n",
              "    google.colab.kernel.accessAllowed ? 'block' : 'none';\n",
              "}\n",
              "\n",
              "        displayQuickchartButton(document);\n",
              "      </script>\n",
              "      <style>\n",
              "    .colab-df-container {\n",
              "      display:flex;\n",
              "      flex-wrap:wrap;\n",
              "      gap: 12px;\n",
              "    }\n",
              "\n",
              "    .colab-df-convert {\n",
              "      background-color: #E8F0FE;\n",
              "      border: none;\n",
              "      border-radius: 50%;\n",
              "      cursor: pointer;\n",
              "      display: none;\n",
              "      fill: #1967D2;\n",
              "      height: 32px;\n",
              "      padding: 0 0 0 0;\n",
              "      width: 32px;\n",
              "    }\n",
              "\n",
              "    .colab-df-convert:hover {\n",
              "      background-color: #E2EBFA;\n",
              "      box-shadow: 0px 1px 2px rgba(60, 64, 67, 0.3), 0px 1px 3px 1px rgba(60, 64, 67, 0.15);\n",
              "      fill: #174EA6;\n",
              "    }\n",
              "\n",
              "    [theme=dark] .colab-df-convert {\n",
              "      background-color: #3B4455;\n",
              "      fill: #D2E3FC;\n",
              "    }\n",
              "\n",
              "    [theme=dark] .colab-df-convert:hover {\n",
              "      background-color: #434B5C;\n",
              "      box-shadow: 0px 1px 3px 1px rgba(0, 0, 0, 0.15);\n",
              "      filter: drop-shadow(0px 1px 2px rgba(0, 0, 0, 0.3));\n",
              "      fill: #FFFFFF;\n",
              "    }\n",
              "  </style>\n",
              "\n",
              "      <script>\n",
              "        const buttonEl =\n",
              "          document.querySelector('#df-dad84cde-9c61-45f7-80c7-150c11b2e506 button.colab-df-convert');\n",
              "        buttonEl.style.display =\n",
              "          google.colab.kernel.accessAllowed ? 'block' : 'none';\n",
              "\n",
              "        async function convertToInteractive(key) {\n",
              "          const element = document.querySelector('#df-dad84cde-9c61-45f7-80c7-150c11b2e506');\n",
              "          const dataTable =\n",
              "            await google.colab.kernel.invokeFunction('convertToInteractive',\n",
              "                                                     [key], {});\n",
              "          if (!dataTable) return;\n",
              "\n",
              "          const docLinkHtml = 'Like what you see? Visit the ' +\n",
              "            '<a target=\"_blank\" href=https://colab.research.google.com/notebooks/data_table.ipynb>data table notebook</a>'\n",
              "            + ' to learn more about interactive tables.';\n",
              "          element.innerHTML = '';\n",
              "          dataTable['output_type'] = 'display_data';\n",
              "          await google.colab.output.renderOutput(dataTable, element);\n",
              "          const docLink = document.createElement('div');\n",
              "          docLink.innerHTML = docLinkHtml;\n",
              "          element.appendChild(docLink);\n",
              "        }\n",
              "      </script>\n",
              "    </div>\n",
              "  </div>\n"
            ],
            "text/plain": [
              "                                              review\n",
              "0  the as you with out themselves powerful lets l...\n",
              "1  the thought solid thought senator do making to...\n",
              "2  the as there in at by br of sure many br of pr...\n",
              "3  the of bernadette mon they halfway of identity...\n",
              "4  the sure themes br only acting i i was favouri..."
            ]
          },
          "execution_count": 97,
          "metadata": {},
          "output_type": "execute_result"
        }
      ],
      "source": [
        "X_train_words.head()"
      ]
    },
    {
      "cell_type": "code",
      "execution_count": null,
      "metadata": {
        "colab": {
          "base_uri": "https://localhost:8080/"
        },
        "id": "qdewSrO_0ya5",
        "outputId": "668b3ce7-22a8-4bb1-9b1e-c556e723df4f"
      },
      "outputs": [
        {
          "name": "stdout",
          "output_type": "stream",
          "text": [
            "Total words: 63487\n"
          ]
        }
      ],
      "source": [
        "tokenizer, vocab = generate_tokenizer(X_train_words.review)"
      ]
    },
    {
      "cell_type": "code",
      "execution_count": null,
      "metadata": {
        "colab": {
          "base_uri": "https://localhost:8080/"
        },
        "id": "1MH-VDjY01xo",
        "outputId": "33f2c569-7f18-44e0-e5a6-3094a86ce068"
      },
      "outputs": [
        {
          "name": "stdout",
          "output_type": "stream",
          "text": [
            "Vocab size: 51955\n"
          ]
        }
      ],
      "source": [
        "word2vec_model = generate_word2vec(X_train_words)"
      ]
    },
    {
      "cell_type": "code",
      "execution_count": null,
      "metadata": {
        "id": "SaTELeTl011I"
      },
      "outputs": [],
      "source": [
        "max_words = 175\n",
        "\n",
        "#Pasamos el pading (175 palabras), tokenizamos pero antes pasamos el texto a secuencias\n",
        "#Cuando tokenizamos pasamos todas las palabras y se convierte a un identificor único del vocabulario\n",
        "\n",
        "X_train_words = pad_sequences(tokenizer.texts_to_sequences(X_train_words.review), maxlen=max_words)\n",
        "X_test_words = pad_sequences(tokenizer.texts_to_sequences(X_test_words.review), maxlen=max_words)"
      ]
    },
    {
      "cell_type": "code",
      "execution_count": null,
      "metadata": {
        "id": "oa417Tj_06Uh"
      },
      "outputs": [],
      "source": [
        "embedding_layer = generate_embedding(word2vec_model, vocab, tokenizer)"
      ]
    },
    {
      "cell_type": "code",
      "execution_count": null,
      "metadata": {
        "id": "JZsETqOx06XX"
      },
      "outputs": [],
      "source": [
        "model_RNNW2 = Sequential()\n",
        "model_RNNW2.add(embedding_layer)\n",
        "model_RNNW2.add(Dropout(0.5))  # Añade una capa de Dropout después de la capa de Embedding para mejorar overfiting\n",
        "\n",
        "model_RNNW2.add(LSTM(50, kernel_regularizer=regularizers.l1_l2(l1=0.001, l2=0.001)))  # capa LSTM    # Regularización Elastic Net\n",
        "model_RNNW2.add(Dropout(0.5))  # Añade una capa de Dropout después de la capa LSTM para mejorar overfiting\n",
        "model_RNNW2.add(Dense(1, activation='sigmoid'))\n"
      ]
    },
    {
      "cell_type": "code",
      "execution_count": null,
      "metadata": {
        "colab": {
          "base_uri": "https://localhost:8080/"
        },
        "id": "98I0s1401i8S",
        "outputId": "f1297074-a173-46f5-b264-b77df5719a0a"
      },
      "outputs": [
        {
          "name": "stdout",
          "output_type": "stream",
          "text": [
            "Model: \"sequential_3\"\n",
            "_________________________________________________________________\n",
            " Layer (type)                Output Shape              Param #   \n",
            "=================================================================\n",
            " embedding_2 (Embedding)     (None, 175, 300)          19046100  \n",
            "                                                                 \n",
            " dropout_6 (Dropout)         (None, 175, 300)          0         \n",
            "                                                                 \n",
            " lstm_3 (LSTM)               (None, 50)                70200     \n",
            "                                                                 \n",
            " dropout_7 (Dropout)         (None, 50)                0         \n",
            "                                                                 \n",
            " dense_3 (Dense)             (None, 1)                 51        \n",
            "                                                                 \n",
            "=================================================================\n",
            "Total params: 19116351 (72.92 MB)\n",
            "Trainable params: 70251 (274.42 KB)\n",
            "Non-trainable params: 19046100 (72.66 MB)\n",
            "_________________________________________________________________\n"
          ]
        }
      ],
      "source": [
        "model_RNNW2.summary()"
      ]
    },
    {
      "cell_type": "code",
      "execution_count": null,
      "metadata": {
        "id": "3WdDYwM81jBe"
      },
      "outputs": [],
      "source": [
        "model_RNNW2.compile(loss=\"binary_crossentropy\", optimizer=\"adam\", metrics=[\"accuracy\"])"
      ]
    },
    {
      "cell_type": "code",
      "execution_count": null,
      "metadata": {
        "colab": {
          "base_uri": "https://localhost:8080/"
        },
        "id": "_EGsb4to1nMW",
        "outputId": "d2d31d2b-2d80-4ba9-e8e2-14b51421370f"
      },
      "outputs": [
        {
          "name": "stdout",
          "output_type": "stream",
          "text": [
            "Epoch 1/10\n",
            "390/390 [==============================] - 11s 20ms/step - loss: 1.4822 - accuracy: 0.6991 - val_loss: 0.6362 - val_accuracy: 0.8594\n",
            "Epoch 2/10\n",
            "390/390 [==============================] - 6s 16ms/step - loss: 0.6715 - accuracy: 0.7950 - val_loss: 0.4507 - val_accuracy: 0.8750\n",
            "Epoch 3/10\n",
            "390/390 [==============================] - 8s 20ms/step - loss: 0.5767 - accuracy: 0.8148 - val_loss: 0.4055 - val_accuracy: 0.9062\n",
            "Epoch 4/10\n",
            "390/390 [==============================] - 5s 14ms/step - loss: 0.5323 - accuracy: 0.8252 - val_loss: 0.4102 - val_accuracy: 0.8594\n",
            "Epoch 5/10\n",
            "390/390 [==============================] - 8s 19ms/step - loss: 0.4895 - accuracy: 0.8388 - val_loss: 0.3825 - val_accuracy: 0.8906\n",
            "Epoch 6/10\n",
            "390/390 [==============================] - 7s 19ms/step - loss: 0.4770 - accuracy: 0.8448 - val_loss: 0.4031 - val_accuracy: 0.8594\n",
            "Epoch 7/10\n",
            "390/390 [==============================] - 8s 21ms/step - loss: 0.4687 - accuracy: 0.8431 - val_loss: 0.4095 - val_accuracy: 0.9062\n",
            "Epoch 8/10\n",
            "390/390 [==============================] - 8s 19ms/step - loss: 0.4687 - accuracy: 0.8496 - val_loss: 0.4033 - val_accuracy: 0.8750\n",
            "Epoch 9/10\n",
            "390/390 [==============================] - 8s 20ms/step - loss: 0.4807 - accuracy: 0.8451 - val_loss: 0.3326 - val_accuracy: 0.8750\n",
            "Epoch 10/10\n",
            "390/390 [==============================] - 6s 15ms/step - loss: 0.4544 - accuracy: 0.8489 - val_loss: 0.3624 - val_accuracy: 0.9219\n"
          ]
        }
      ],
      "source": [
        "batch_size = 64\n",
        "num_epochs = 10\n",
        "\n",
        "X_train_words_valid, y_valid = X_train_words[:batch_size], y_train[:batch_size]  # first batch_size samples\n",
        "X_train_words2, y_train2 = X_train_words[batch_size:], y_train[batch_size:]  # rest for training\n",
        "\n",
        "history = model_RNNW2.fit(X_train_words2, y_train2,\n",
        "             validation_data=(X_train_words_valid, y_valid),\n",
        "             batch_size=batch_size, epochs=num_epochs)"
      ]
    },
    {
      "cell_type": "code",
      "execution_count": null,
      "metadata": {
        "colab": {
          "base_uri": "https://localhost:8080/",
          "height": 985
        },
        "id": "xQJOqlSa1nQI",
        "outputId": "386dfc17-0857-408a-bac5-a3a50b4f4cde"
      },
      "outputs": [
        {
          "name": "stdout",
          "output_type": "stream",
          "text": [
            "782/782 [==============================] - 9s 11ms/step - loss: 0.4205 - accuracy: 0.8718\n",
            "Loss: 0.420503705739975\n",
            "Accuracy: 0.8717600107192993\n"
          ]
        },
        {
          "data": {
            "image/png": "[encoded data removed]",
            "text/plain": [
              "<Figure size 640x480 with 1 Axes>"
            ]
          },
          "metadata": {},
          "output_type": "display_data"
        },
        {
          "data": {
            "image/png": "[encoded data removed]",
            "text/plain": [
              "<Figure size 640x480 with 1 Axes>"
            ]
          },
          "metadata": {},
          "output_type": "display_data"
        }
      ],
      "source": [
        "# Evaluamos el modelo\n",
        "loss, accuracy = model_RNNW2.evaluate(X_test_words, y_test)\n",
        "print(\"Loss:\", loss)\n",
        "print(\"Accuracy:\", accuracy)\n",
        "\n",
        "# Graficamos la precisión y la pérdida en el entrenamiento y la validación\n",
        "plt.plot(history.history['accuracy'])\n",
        "plt.plot(history.history['val_accuracy'])\n",
        "plt.title('Precisión del modelo')\n",
        "plt.ylabel('Precisión')\n",
        "plt.xlabel('Época')\n",
        "plt.legend(['Entrenamiento', 'Validación'], loc='upper left')\n",
        "plt.show()\n",
        "\n",
        "plt.plot(history.history['loss'])\n",
        "plt.plot(history.history['val_loss'])\n",
        "plt.title('Pérdida del modelo')\n",
        "plt.ylabel('Pérdida')\n",
        "plt.xlabel('Época')\n",
        "plt.legend(['Entrenamiento', 'Validación'], loc='upper left')\n",
        "plt.show()"
      ]
    },
    {
      "cell_type": "code",
      "execution_count": null,
      "metadata": {
        "colab": {
          "base_uri": "https://localhost:8080/"
        },
        "id": "skI3R12I1vnA",
        "outputId": "1c1e18b1-d846-42ad-d867-0c3a5a0cf4dc"
      },
      "outputs": [
        {
          "data": {
            "text/plain": [
              "{'loss': [1.5000983476638794,\n",
              "  0.7980728149414062,\n",
              "  0.5891442894935608,\n",
              "  0.5276692509651184,\n",
              "  0.4931960701942444,\n",
              "  0.47684845328330994,\n",
              "  0.4679745137691498,\n",
              "  0.4596897065639496,\n",
              "  0.45519283413887024,\n",
              "  0.4570906162261963],\n",
              " 'accuracy': [0.7026788592338562,\n",
              "  0.7332772016525269,\n",
              "  0.8121190071105957,\n",
              "  0.8207811713218689,\n",
              "  0.8328921794891357,\n",
              "  0.8368623852729797,\n",
              "  0.8410731554031372,\n",
              "  0.8433188796043396,\n",
              "  0.8429579734802246,\n",
              "  0.8449230194091797],\n",
              " 'val_loss': [0.7408810257911682,\n",
              "  0.5027010440826416,\n",
              "  0.4302684962749481,\n",
              "  0.37384217977523804,\n",
              "  0.45651865005493164,\n",
              "  0.3964969515800476,\n",
              "  0.39437031745910645,\n",
              "  0.36972135305404663,\n",
              "  0.3369874954223633,\n",
              "  0.3354223370552063],\n",
              " 'val_accuracy': [0.796875,\n",
              "  0.875,\n",
              "  0.90625,\n",
              "  0.90625,\n",
              "  0.828125,\n",
              "  0.890625,\n",
              "  0.890625,\n",
              "  0.9375,\n",
              "  0.953125,\n",
              "  0.9375]}"
            ]
          },
          "execution_count": 90,
          "metadata": {},
          "output_type": "execute_result"
        }
      ],
      "source": [
        "history.history"
      ]
    },
    {
      "cell_type": "markdown",
      "metadata": {
        "id": "tQ6uEUmmNSgJ"
      },
      "source": [
        "Si se prioriza la precisión general, la RNN + word2vec Embedding con una precisión de validación final del 93,75% es la ganadora.\n",
        "\n",
        "Si se  prioriza un equilibrio entre Precisión, Sensibilidad y Puntuación F1, el SVC parece ser la mejor elección.\n",
        "\n",
        "Guadardamos el modelo SVC para poder usarlo en el proximo notebook."
      ]
    },
    {
      "cell_type": "code",
      "execution_count": null,
      "metadata": {
        "colab": {
          "base_uri": "https://localhost:8080/"
        },
        "id": "Advp05vbas2q",
        "outputId": "bc4eebf3-d4b6-4a28-b394-508fe0939b44"
      },
      "outputs": [
        {
          "data": {
            "text/plain": [
              "['drive/MyDrive/NLP/modelo_svc.joblib']"
            ]
          },
          "execution_count": 108,
          "metadata": {},
          "output_type": "execute_result"
        }
      ],
      "source": [
        "from joblib import dump\n",
        "\n",
        "# Guardar el modelo\n",
        "dump(svc, 'drive/MyDrive/NLP/modelo_svc.joblib')"
      ]
    }
  ],
  "metadata": {
    "accelerator": "GPU",
    "colab": {
      "provenance": []
    },
    "kernelspec": {
      "display_name": "Python 3",
      "name": "python3"
    },
    "language_info": {
      "name": "python"
    }
  },
  "nbformat": 4,
  "nbformat_minor": 0
}
