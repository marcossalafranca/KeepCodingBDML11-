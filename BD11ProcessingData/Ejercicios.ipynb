{
 "cells": [
  {
   "attachments": {},
   "cell_type": "markdown",
   "metadata": {},
   "source": [
    "Para poder realizar los ejercicios, iniciamos pyspark y creamos un RDD con cada uno de los archivo CSV  que hay en la practica."
   ]
  },
  {
   "cell_type": "code",
   "execution_count": 1,
   "metadata": {},
   "outputs": [],
   "source": [
    "# Iniciamos pyspark y creamos un RDD con cada archivo CSV\n",
    "import findspark\n",
    "findspark.init()\n",
    "\n",
    "import pyspark\n",
    "from pyspark.sql import SparkSession\n",
    "from pyspark.sql.functions import desc, max, first\n",
    "\n",
    "spark = SparkSession.builder.getOrCreate()\n",
    "df21 = spark.read.option(\"header\", \"true\").csv(\"Datasets/world-happiness-report-2021.csv\")\n",
    "df = spark.read.option(\"header\", \"true\").csv(\"Datasets/world-happiness-report.csv\")\n"
   ]
  },
  {
   "cell_type": "markdown",
   "metadata": {},
   "source": [
    "# ¿Cuál es el país más “feliz” del 2021 según la data? (considerar que la columna “Ladder score” mayor número más feliz es el país)"
   ]
  },
  {
   "cell_type": "code",
   "execution_count": 2,
   "metadata": {},
   "outputs": [
    {
     "name": "stdout",
     "output_type": "stream",
     "text": [
      "+------------+------------+\n",
      "|Country name|Ladder score|\n",
      "+------------+------------+\n",
      "|     Finland|       7.842|\n",
      "+------------+------------+\n",
      "\n",
      "El país más feliz es Finland con un puntaje de 7.842\n"
     ]
    }
   ],
   "source": [
    "\n",
    "# Ordenar el DataFrame por puntaje de felicidad de manera descendente\n",
    "max_ladder_df = df21.sort(desc('Ladder score'))\n",
    "\n",
    "# Seleccionar el primer país (el más feliz) y su puntaje de felicidad\n",
    "most_happy_country = max_ladder_df.select('Country name', 'Ladder score').first()\n",
    "# Creamos un dataframe para mostrarlo con show, no seria necesario porque mostramos los datos en el print\n",
    "most_happy_country_df = spark.createDataFrame([most_happy_country], ['Country name', 'Ladder score'])\n",
    "\n",
    "# Mostrar el dataframe y el resultado con el nombre del país y su puntaje de felicidad\n",
    "most_happy_country_df.show()\n",
    "print(f\"El país más feliz es {most_happy_country[0]} con un puntaje de {most_happy_country[1]}\")"
   ]
  },
  {
   "attachments": {},
   "cell_type": "markdown",
   "metadata": {},
   "source": [
    "# ¿Cuál es el país más “feliz” del 2021 por continente según la data?"
   ]
  },
  {
   "cell_type": "code",
   "execution_count": 9,
   "metadata": {},
   "outputs": [
    {
     "name": "stdout",
     "output_type": "stream",
     "text": [
      "Estos son los paises mas felices del 2021 por continente:\n",
      "+----------------------------------+------------------------+---------+\n",
      "|Regional indicator                |Country                 |Max score|\n",
      "+----------------------------------+------------------------+---------+\n",
      "|Western Europe                    |Finland                 |7.842    |\n",
      "|North America and ANZ             |New Zealand             |7.277    |\n",
      "|Middle East and North Africa      |Israel                  |7.157    |\n",
      "|Latin America and Caribbean       |Costa Rica              |7.069    |\n",
      "|Central and Eastern Europe        |Czech Republic          |6.965    |\n",
      "|East Asia                         |Taiwan Province of China|6.584    |\n",
      "|Southeast Asia                    |Singapore               |6.377    |\n",
      "|Commonwealth of Independent States|Uzbekistan              |6.179    |\n",
      "|Sub-Saharan Africa                |Mauritius               |6.049    |\n",
      "|South Asia                        |Nepal                   |5.269    |\n",
      "+----------------------------------+------------------------+---------+\n",
      "\n"
     ]
    }
   ],
   "source": [
    "#Este codigo hay que ejecutarlo de forma manual, si se usa el ejecutar automatico para que se ejecuten todas las celdas del notebook no se ejecuta.\n",
    "#Agrupar por continente, agregar los datos de la max puntuacion y el pais\n",
    "happiness_continents = df21.groupBy('Regional indicator').agg(max('Ladder score'), first('Country name')) \\\n",
    "    .withColumnRenamed('max(Ladder score)', 'Max score') \\\n",
    "    .withColumnRenamed('first(Country name)', 'Country')\n",
    "\n",
    "# Ordenar los datos de la max puntuacion de forma desc\n",
    "most_happy_continents = happiness_continents.sort(desc('Max score')).select('Regional indicator', 'Country', 'Max score')\n",
    "\n",
    "# Mostrar  los paises mas felices del 2021, truncate es para que no se corte los datos de la tabla y este todo encuadrado.\n",
    "print(f\"Estos son los paises mas felices del 2021 por continente:\")\n",
    "most_happy_continents.show(truncate=False)"
   ]
  },
  {
   "attachments": {},
   "cell_type": "markdown",
   "metadata": {},
   "source": [
    "# ¿Cuál es el país que más veces ocupó el primer lugar en todos los años?"
   ]
  },
  {
   "cell_type": "code",
   "execution_count": 4,
   "metadata": {},
   "outputs": [
    {
     "name": "stdout",
     "output_type": "stream",
     "text": [
      "+------------+-----+\n",
      "|Country name|count|\n",
      "+------------+-----+\n",
      "|     Denmark|    7|\n",
      "+------------+-----+\n",
      "\n",
      "El país más feliz es Denmark con un total de 7 en el numero 1\n"
     ]
    }
   ],
   "source": [
    "from pyspark.sql.functions import col\n",
    "\n",
    "# Ordenar los datos por año y Life Ladder en orden descendente\n",
    "ordered_df = df.orderBy(col(\"year\"), col(\"Life Ladder\").desc())\n",
    "\n",
    "# Obtener el nombre del país que ocupa el primer lugar en cada año\n",
    "first_place_df = ordered_df.groupBy(\"year\").agg({\"Country name\": \"first\"}).withColumnRenamed(\"first(Country name)\", \"Country name\")\n",
    "\n",
    "# Contar cuántas veces cada país ha ocupado el primer lugar, si no pongo limit me aparece el listado de todos los paises que han sido felices y cuantas veces.\n",
    "count_df = first_place_df.groupBy(\"Country name\").count().orderBy(desc(\"count\")).limit(1)\n",
    "\n",
    "# Mostrar los resultados\n",
    "count_df.show()\n",
    "# Mostrar el resultado con un mensaje\n",
    "print(f\"El país más feliz es {count_df.first()[0]} con un total de {count_df.first()[1]} en el numero 1\")"
   ]
  },
  {
   "attachments": {},
   "cell_type": "markdown",
   "metadata": {},
   "source": [
    "# ¿Qué puesto de Felicidad tiene el país con mayor GDP del 2020?"
   ]
  },
  {
   "cell_type": "code",
   "execution_count": 5,
   "metadata": {},
   "outputs": [
    {
     "name": "stdout",
     "output_type": "stream",
     "text": [
      "+------------+----+------------------+-----------+----+\n",
      "|Country name|year|Log GDP per capita|Life Ladder|Rank|\n",
      "+------------+----+------------------+-----------+----+\n",
      "|     Ireland|2020|            11.323|      7.035|  13|\n",
      "+------------+----+------------------+-----------+----+\n",
      "\n",
      "El país con el mayor GDP es Ireland y su posición en felicidad es el puesto 13\n"
     ]
    }
   ],
   "source": [
    "from pyspark.sql.functions import col, lit\n",
    "\n",
    "# Seleccionamos las columnas que nos interesan del dataframe original, filtramos por el año 2020, y cambiamos el tipo de la columna \"Log GDP per capita\" a float\n",
    "df_filtered = df.select(\"Country name\", \"year\", \"Log GDP per capita\", \"Life Ladder\")\\\n",
    "    .filter(col(\"year\") == 2020).withColumn(\"Log GDP per capita\", col(\"Log GDP per capita\").cast(\"float\"))\n",
    "\n",
    "# Obtenemos el valor máximo de la columna \"Log GDP per capita\"\n",
    "max_log_gdp = df_filtered.agg(max(\"Log GDP per capita\")).first()[0]\n",
    "\n",
    "# Filtramos el dataframe por las filas que tienen el valor máximo en la columna \"Log GDP per capita\"\n",
    "df_max_log_gdp = df_filtered.filter(col(\"Log GDP per capita\") == max_log_gdp)\n",
    "\n",
    "# Contamos el número de países cuyo valor de \"Life Ladder\" es mayor que el del país con el mayor \"Log GDP per capita\"\n",
    "count_higher_ladder = df_filtered.filter(col(\"Life Ladder\") > df_max_log_gdp.select(\"Life Ladder\").first()[0]).count()\n",
    "\n",
    "# Creamos una nueva columna \"Rank\" en el dataframe df_max_log_gdp con la funcion lit y añadimos el valor de count_higher_ladder\n",
    "df_max_log_gdp = df_max_log_gdp.withColumn(\"Rank\", lit(count_higher_ladder + 1))\n",
    "\n",
    "# Mostramos el resultado\n",
    "df_max_log_gdp.show()\n",
    "print(f\"El país con el mayor GDP es {df_max_log_gdp.first()[0]} y su posición en felicidad es el puesto {df_max_log_gdp.first()[4]}\")\n"
   ]
  },
  {
   "attachments": {},
   "cell_type": "markdown",
   "metadata": {},
   "source": [
    "# ¿En que porcentaje a variado a nivel mundial el GDP promedio del 2020 respecto al 2021? ¿Aumentó o disminuyó?"
   ]
  },
  {
   "cell_type": "code",
   "execution_count": 6,
   "metadata": {},
   "outputs": [
    {
     "name": "stdout",
     "output_type": "stream",
     "text": [
      "-3.27\n",
      "Al ser un resultado negativo podemos decir que disminuyó.\n"
     ]
    }
   ],
   "source": [
    "from pyspark.sql.functions import mean\n",
    "\n",
    "\"\"\"\n",
    "Pregunte en discord si se podia ignorar los nulos al ser un tratamiento mas facil de los datos y fue afirmativa.\n",
    "\n",
    "Cálculo de GDP20 usando la funcion mean que calcula el promedio e ignora a la vez los nulos.\n",
    "Filtramos el dataframe 'df' para obtener las filas que tienen 'year' igual a 2020,luego aplicamos\n",
    "la función 'mean' a la columna 'Log GDP per capita', y finalmente convertimos el resultado a una RDD\n",
    "para obtener el primer elemento de la tupla y su valor\n",
    "\"\"\"\n",
    "GDP20 = df.filter(col(\"year\") == 2020).agg(mean(\"Log GDP per capita\")).rdd.first()[0]\n",
    "\n",
    "# Cálculo de GDP21 usando la funcion mean que calcula el promedio e ignora a la vez los nulos\n",
    "GDP21 = df21.agg(mean(\"Logged GDP per capita\")).rdd.first()[0]\n",
    "\n",
    "# Cálculo de la variación\n",
    "percentage = ((GDP21 - GDP20) / GDP20) * 100\n",
    "\n",
    "print(round(percentage, 2))\n",
    "print(\"Al ser un resultado negativo podemos decir que disminuyó.\")\n"
   ]
  },
  {
   "attachments": {},
   "cell_type": "markdown",
   "metadata": {},
   "source": [
    "# ¿Cuál es el país con mayor expectativa de vida (“Healthy life expectancy at birth”)? Y ¿Cuánto tenia en ese indicador en el 2019?"
   ]
  },
  {
   "cell_type": "code",
   "execution_count": 7,
   "metadata": {},
   "outputs": [
    {
     "name": "stdout",
     "output_type": "stream",
     "text": [
      "+----+------------+--------------------------------+\n",
      "|year|Country name|Healthy life expectancy at birth|\n",
      "+----+------------+--------------------------------+\n",
      "|2005|       Japan|                          73.200|\n",
      "|2006|   Singapore|                          73.600|\n",
      "|2007|   Singapore|                          73.900|\n",
      "|2008|   Singapore|                          74.200|\n",
      "|2009|   Singapore|                          74.500|\n",
      "|2010|   Singapore|                          74.800|\n",
      "|2011|   Singapore|                          75.020|\n",
      "|2012|       Japan|                          74.160|\n",
      "|2013|   Singapore|                          75.460|\n",
      "|2014|   Singapore|                          75.680|\n",
      "|2015|   Singapore|                          75.900|\n",
      "|2016|   Singapore|                          76.200|\n",
      "|2017|   Singapore|                          76.500|\n",
      "|2018|   Singapore|                          76.800|\n",
      "|2019|   Singapore|                          77.100|\n",
      "|2020|       Japan|                          75.200|\n",
      "+----+------------+--------------------------------+\n",
      "\n",
      "El país que más veces ha tenido la mejor esperanza de vida es Singapore con 13 años siendo el 1º\n"
     ]
    }
   ],
   "source": [
    "from pyspark.sql.functions import count\n",
    "\n",
    "# Obtener la mayor expectativa de vida en cada año\n",
    "max_life = df.groupBy(\"year\").agg(max(\"Healthy life expectancy at birth\").alias(\"max_exp_life\"))\n",
    "\n",
    "# Unir con el dataframe original para obtener la fila correspondiente al país con la mayor expectativa de vida en cada año\n",
    "max_life = df.join(max_life, [\"year\"]).filter(\n",
    "    df[\"Healthy life expectancy at birth\"] == max_life[\"max_exp_life\"])\\\n",
    "    .select(df[\"year\"], df[\"Country name\"], df[\"Healthy life expectancy at birth\"])\n",
    "\n",
    "# Contar las veces que aparece cada país en el resultado y mostrar el que más tiene\n",
    "most_country = max_life.groupBy(\"Country name\").agg(count(\"*\").alias(\"count\")).orderBy(desc(\"count\"))\\\n",
    "    .select(\"Country name\", \"count\").first()\n",
    "\n",
    "# Mostrar los resultados ordenados por año.\n",
    "max_life.orderBy((\"year\")).show()\n",
    "print(f\"El país que más veces ha tenido la mejor esperanza de vida es {most_country[0]} con {most_country[1]} años siendo el 1º\")"
   ]
  },
  {
   "cell_type": "code",
   "execution_count": 8,
   "metadata": {},
   "outputs": [
    {
     "name": "stdout",
     "output_type": "stream",
     "text": [
      "+----+------------+--------------------------------+\n",
      "|year|Country name|Healthy life expectancy at birth|\n",
      "+----+------------+--------------------------------+\n",
      "|2019|   Singapore|                          77.100|\n",
      "+----+------------+--------------------------------+\n",
      "\n",
      "En 2019 Singapore tenia una esperanza de vida de 13 \n"
     ]
    }
   ],
   "source": [
    "\n",
    "# Buscar en 2019 que esperanza de vida tenia el pais con mejor esperanza de vida.\n",
    "max2019 = df.filter((col(\"year\") == 2019) & (col(\"Country name\") == most_country[0]))\n",
    "\n",
    "# Mostrar el resultado\n",
    "max2019.select(\"year\", \"Country name\",\"Healthy life expectancy at birth\").show()\n",
    "print(f\"En 2019 {most_country[0]} tenia una esperanza de vida de {most_country[1]} \")\n",
    "\n"
   ]
  }
 ],
 "metadata": {
  "kernelspec": {
   "display_name": "base",
   "language": "python",
   "name": "python3"
  },
  "language_info": {
   "codemirror_mode": {
    "name": "ipython",
    "version": 3
   },
   "file_extension": ".py",
   "mimetype": "text/x-python",
   "name": "python",
   "nbconvert_exporter": "python",
   "pygments_lexer": "ipython3",
   "version": "3.9.13"
  },
  "orig_nbformat": 4
 },
 "nbformat": 4,
 "nbformat_minor": 2
}
